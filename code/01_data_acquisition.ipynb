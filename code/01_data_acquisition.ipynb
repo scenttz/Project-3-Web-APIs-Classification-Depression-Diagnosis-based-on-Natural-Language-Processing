{
 "cells": [
  {
   "cell_type": "markdown",
   "id": "4f6dfd07",
   "metadata": {},
   "source": [
    "<img src=\"http://imgur.com/1ZcRyrc.png\" style=\"float: left; margin: 20px; height: 55px\">\n",
    "\n",
    "# DSI-Project 3: Web-APIs-Classification : Depression Diagnosis based on Natural Language Processing \n",
    "\n",
    "---"
   ]
  },
  {
   "cell_type": "markdown",
   "id": "7c6ad18f",
   "metadata": {},
   "source": [
    "### Problem Statement \n",
    "\n",
    "---"
   ]
  },
  {
   "cell_type": "markdown",
   "id": "0e246b4a",
   "metadata": {},
   "source": [
    "Depression (major depressive disorder) is a common and serious medical illness that negatively affects how you feel, the way you think and how you act. Fortunately, it is also treatable. Depression causes feelings of sadness and/or a loss of interest in activities you once enjoyed. It can lead to a variety of emotional and physical problems and can decrease your ability to function at work and at home. \n",
    "\n",
    "Felix Torres, a physician, reviewed that depression affects an estimated one in six people (16.6%) will experience depression at some time in their life, especially during the late teens to mid-20s.\n",
    "[Source](https://psychiatry.org/patients-families/depression/what-is-depression) Therefore, people tend to seek a safe space to express their depression.\n",
    "\n",
    "Reddit is a social news site where users create and share content. The site has communities called subreddits for different interests and any user can create a subreddit.\n",
    "As users browse, they can choose to go to specific communities. Their front page features posts from all the communities they follow. They can also browse r/all, which draws popular posts from subreddits all over Reddit.\n",
    "\n",
    "The users in these subreddits tend to be very supportive of those in their community. Because each subreddit has rules users need to abide by as well, moderators will ban or suspend anyone who tries to put others down. As a result, many of these support communities serve as safe spaces for those most vulnerable.[Source](https://www.internetmatters.org/hub/news-blogs/what-is-reddit-what-parents-need-to-know/)\n",
    "\n",
    "However, expressing the depression of some people is not enough. The depression can develop into anxiety, self-harm, suicide, and creating violence in the society.\n",
    "\n",
    "This leads our to the problem: **\"How can we differentiate between depressed and normal people who want to get off their chest?\"**"
   ]
  },
  {
   "cell_type": "markdown",
   "id": "1f223497",
   "metadata": {},
   "source": [
    "### Data Collection\n",
    "\n",
    "---"
   ]
  },
  {
   "cell_type": "code",
   "execution_count": 4,
   "id": "e6c82cba",
   "metadata": {},
   "outputs": [],
   "source": [
    "# Import Packages\n",
    "import pandas as pd\n",
    "import numpy as np\n",
    "import requests\n",
    "import time"
   ]
  },
  {
   "cell_type": "markdown",
   "id": "c1ae1927",
   "metadata": {},
   "source": [
    "#### Pulling Data\n",
    "---\n",
    "Reddit's APIs can only pull 25 requests at once, in accordance with their limitations. I will therefore loop these pulls in order to obtain the following consecutive requests in an effort to increase efficiency."
   ]
  },
  {
   "cell_type": "code",
   "execution_count": 5,
   "id": "e4255419",
   "metadata": {
    "scrolled": true
   },
   "outputs": [],
   "source": [
    "# Create Scrapping function to pull subreddit posts\n",
    "def get_data(urls, num_req):\n",
    "             \n",
    "    # Set header to prevent error \n",
    "    headers = {\"User-agent\" : \"GA SG Bot 0.1\"} \n",
    "             \n",
    "    # Get posts as list of dictionaries, each containing data on one post\n",
    "    posts = []          \n",
    "    for url in urls: \n",
    "        after = None\n",
    "             \n",
    "        # Create a loop that does max 25 requests per pull    \n",
    "        for i in range(num_req): \n",
    "            print(f\"Page of number request:{i} of {url}\")\n",
    "            if after == None:\n",
    "                params = {}\n",
    "            else:\n",
    "                params = {\"after\" : after}\n",
    "            res = requests.get(url, params = params, headers=headers)\n",
    "            if res.status_code == 200 :\n",
    "                the_json = res.json()\n",
    "                posts.extend(the_json[\"data\"][\"children\"]) \n",
    "                after = the_json[\"data\"][\"after\"]\n",
    "            else:\n",
    "                print(res.status_code)\n",
    "                break\n",
    "            time.sleep(1)\n",
    "    \n",
    "    return posts"
   ]
  },
  {
   "cell_type": "code",
   "execution_count": 6,
   "id": "27c14039",
   "metadata": {},
   "outputs": [
    {
     "name": "stdout",
     "output_type": "stream",
     "text": [
      "Page of number request:0 of https://www.reddit.com/r/offmychest/.json\n",
      "Page of number request:1 of https://www.reddit.com/r/offmychest/.json\n",
      "Page of number request:2 of https://www.reddit.com/r/offmychest/.json\n",
      "Page of number request:3 of https://www.reddit.com/r/offmychest/.json\n",
      "Page of number request:4 of https://www.reddit.com/r/offmychest/.json\n",
      "Page of number request:5 of https://www.reddit.com/r/offmychest/.json\n",
      "Page of number request:6 of https://www.reddit.com/r/offmychest/.json\n",
      "Page of number request:7 of https://www.reddit.com/r/offmychest/.json\n",
      "Page of number request:8 of https://www.reddit.com/r/offmychest/.json\n",
      "Page of number request:9 of https://www.reddit.com/r/offmychest/.json\n",
      "Page of number request:10 of https://www.reddit.com/r/offmychest/.json\n",
      "Page of number request:11 of https://www.reddit.com/r/offmychest/.json\n",
      "Page of number request:12 of https://www.reddit.com/r/offmychest/.json\n",
      "Page of number request:13 of https://www.reddit.com/r/offmychest/.json\n",
      "Page of number request:14 of https://www.reddit.com/r/offmychest/.json\n",
      "Page of number request:15 of https://www.reddit.com/r/offmychest/.json\n",
      "Page of number request:16 of https://www.reddit.com/r/offmychest/.json\n",
      "Page of number request:17 of https://www.reddit.com/r/offmychest/.json\n",
      "Page of number request:18 of https://www.reddit.com/r/offmychest/.json\n",
      "Page of number request:19 of https://www.reddit.com/r/offmychest/.json\n",
      "Page of number request:20 of https://www.reddit.com/r/offmychest/.json\n",
      "Page of number request:21 of https://www.reddit.com/r/offmychest/.json\n",
      "Page of number request:22 of https://www.reddit.com/r/offmychest/.json\n",
      "Page of number request:23 of https://www.reddit.com/r/offmychest/.json\n",
      "Page of number request:24 of https://www.reddit.com/r/offmychest/.json\n",
      "Page of number request:25 of https://www.reddit.com/r/offmychest/.json\n",
      "Page of number request:26 of https://www.reddit.com/r/offmychest/.json\n",
      "Page of number request:27 of https://www.reddit.com/r/offmychest/.json\n",
      "Page of number request:28 of https://www.reddit.com/r/offmychest/.json\n",
      "Page of number request:29 of https://www.reddit.com/r/offmychest/.json\n",
      "Page of number request:30 of https://www.reddit.com/r/offmychest/.json\n",
      "Page of number request:31 of https://www.reddit.com/r/offmychest/.json\n",
      "Page of number request:32 of https://www.reddit.com/r/offmychest/.json\n",
      "Page of number request:33 of https://www.reddit.com/r/offmychest/.json\n",
      "Page of number request:34 of https://www.reddit.com/r/offmychest/.json\n",
      "Page of number request:35 of https://www.reddit.com/r/offmychest/.json\n",
      "Page of number request:36 of https://www.reddit.com/r/offmychest/.json\n",
      "Page of number request:37 of https://www.reddit.com/r/offmychest/.json\n",
      "Page of number request:38 of https://www.reddit.com/r/offmychest/.json\n",
      "Page of number request:39 of https://www.reddit.com/r/offmychest/.json\n",
      "Page of number request:0 of https://www.reddit.com/r/depression/.json\n",
      "Page of number request:1 of https://www.reddit.com/r/depression/.json\n",
      "Page of number request:2 of https://www.reddit.com/r/depression/.json\n",
      "Page of number request:3 of https://www.reddit.com/r/depression/.json\n",
      "Page of number request:4 of https://www.reddit.com/r/depression/.json\n",
      "Page of number request:5 of https://www.reddit.com/r/depression/.json\n",
      "Page of number request:6 of https://www.reddit.com/r/depression/.json\n",
      "Page of number request:7 of https://www.reddit.com/r/depression/.json\n",
      "Page of number request:8 of https://www.reddit.com/r/depression/.json\n",
      "Page of number request:9 of https://www.reddit.com/r/depression/.json\n",
      "Page of number request:10 of https://www.reddit.com/r/depression/.json\n",
      "Page of number request:11 of https://www.reddit.com/r/depression/.json\n",
      "Page of number request:12 of https://www.reddit.com/r/depression/.json\n",
      "Page of number request:13 of https://www.reddit.com/r/depression/.json\n",
      "Page of number request:14 of https://www.reddit.com/r/depression/.json\n",
      "Page of number request:15 of https://www.reddit.com/r/depression/.json\n",
      "Page of number request:16 of https://www.reddit.com/r/depression/.json\n",
      "Page of number request:17 of https://www.reddit.com/r/depression/.json\n",
      "Page of number request:18 of https://www.reddit.com/r/depression/.json\n",
      "Page of number request:19 of https://www.reddit.com/r/depression/.json\n",
      "Page of number request:20 of https://www.reddit.com/r/depression/.json\n",
      "Page of number request:21 of https://www.reddit.com/r/depression/.json\n",
      "Page of number request:22 of https://www.reddit.com/r/depression/.json\n",
      "Page of number request:23 of https://www.reddit.com/r/depression/.json\n",
      "Page of number request:24 of https://www.reddit.com/r/depression/.json\n",
      "Page of number request:25 of https://www.reddit.com/r/depression/.json\n",
      "Page of number request:26 of https://www.reddit.com/r/depression/.json\n",
      "Page of number request:27 of https://www.reddit.com/r/depression/.json\n",
      "Page of number request:28 of https://www.reddit.com/r/depression/.json\n",
      "Page of number request:29 of https://www.reddit.com/r/depression/.json\n",
      "Page of number request:30 of https://www.reddit.com/r/depression/.json\n",
      "Page of number request:31 of https://www.reddit.com/r/depression/.json\n",
      "Page of number request:32 of https://www.reddit.com/r/depression/.json\n",
      "Page of number request:33 of https://www.reddit.com/r/depression/.json\n",
      "Page of number request:34 of https://www.reddit.com/r/depression/.json\n",
      "Page of number request:35 of https://www.reddit.com/r/depression/.json\n",
      "Page of number request:36 of https://www.reddit.com/r/depression/.json\n",
      "Page of number request:37 of https://www.reddit.com/r/depression/.json\n",
      "Page of number request:38 of https://www.reddit.com/r/depression/.json\n",
      "Page of number request:39 of https://www.reddit.com/r/depression/.json\n"
     ]
    }
   ],
   "source": [
    "# Scrape Offmychest and Depression posts from subreddits\n",
    "# We want dataset of each subreddit about 1000 rows\n",
    "# num_req 1000/25 = 40 \n",
    "raw_data = get_data([\n",
    "            \"https://www.reddit.com/r/offmychest/.json\",\n",
    "            \"https://www.reddit.com/r/depression/.json\"], num_req=40)"
   ]
  },
  {
   "cell_type": "code",
   "execution_count": 7,
   "id": "9b597d47",
   "metadata": {},
   "outputs": [],
   "source": [
    "# Create Dataframe of Data Scrapping function\n",
    "# Select only keys title, selftext, subreddit\n",
    "def get_dataframe(data):\n",
    "    title = [] \n",
    "    selftext = [] \n",
    "    subreddit = [] \n",
    "    for i in range(len(data)):\n",
    "        title.append(data[i][\"data\"][\"title\"])\n",
    "        selftext.append(data[i][\"data\"][\"selftext\"])\n",
    "        subreddit.append(data[i][\"data\"][\"subreddit\"])\n",
    "        \n",
    "    data = pd.DataFrame({\n",
    "                        \"title\" : title,\n",
    "                        'selftext': selftext,\n",
    "                        'subreddit': subreddit,\n",
    "                        })\n",
    "    return data"
   ]
  },
  {
   "cell_type": "code",
   "execution_count": 8,
   "id": "765f0459",
   "metadata": {},
   "outputs": [
    {
     "data": {
      "text/html": [
       "<div>\n",
       "<style scoped>\n",
       "    .dataframe tbody tr th:only-of-type {\n",
       "        vertical-align: middle;\n",
       "    }\n",
       "\n",
       "    .dataframe tbody tr th {\n",
       "        vertical-align: top;\n",
       "    }\n",
       "\n",
       "    .dataframe thead th {\n",
       "        text-align: right;\n",
       "    }\n",
       "</style>\n",
       "<table border=\"1\" class=\"dataframe\">\n",
       "  <thead>\n",
       "    <tr style=\"text-align: right;\">\n",
       "      <th></th>\n",
       "      <th>title</th>\n",
       "      <th>selftext</th>\n",
       "      <th>subreddit</th>\n",
       "    </tr>\n",
       "  </thead>\n",
       "  <tbody>\n",
       "    <tr>\n",
       "      <th>0</th>\n",
       "      <td>We have persistent scammers preying on this co...</td>\n",
       "      <td>Folks, a reminder that [Rule 3](/r/offmychest/...</td>\n",
       "      <td>offmychest</td>\n",
       "    </tr>\n",
       "    <tr>\n",
       "      <th>1</th>\n",
       "      <td>it's my friend's birthday</td>\n",
       "      <td>everyone is posting pictures with her. when sh...</td>\n",
       "      <td>offmychest</td>\n",
       "    </tr>\n",
       "    <tr>\n",
       "      <th>2</th>\n",
       "      <td>I slapped my boyfriend last night</td>\n",
       "      <td>At 12 am I was woken up by him playing music r...</td>\n",
       "      <td>offmychest</td>\n",
       "    </tr>\n",
       "    <tr>\n",
       "      <th>3</th>\n",
       "      <td>It is my birthday today</td>\n",
       "      <td>That is all its just my birthday :)</td>\n",
       "      <td>offmychest</td>\n",
       "    </tr>\n",
       "    <tr>\n",
       "      <th>4</th>\n",
       "      <td>Parents: we (teachers) are not asking you to b...</td>\n",
       "      <td>Take away their phone. Lord knows that’s part ...</td>\n",
       "      <td>offmychest</td>\n",
       "    </tr>\n",
       "  </tbody>\n",
       "</table>\n",
       "</div>"
      ],
      "text/plain": [
       "                                               title  \\\n",
       "0  We have persistent scammers preying on this co...   \n",
       "1                          it's my friend's birthday   \n",
       "2                  I slapped my boyfriend last night   \n",
       "3                            It is my birthday today   \n",
       "4  Parents: we (teachers) are not asking you to b...   \n",
       "\n",
       "                                            selftext   subreddit  \n",
       "0  Folks, a reminder that [Rule 3](/r/offmychest/...  offmychest  \n",
       "1  everyone is posting pictures with her. when sh...  offmychest  \n",
       "2  At 12 am I was woken up by him playing music r...  offmychest  \n",
       "3                That is all its just my birthday :)  offmychest  \n",
       "4  Take away their phone. Lord knows that’s part ...  offmychest  "
      ]
     },
     "execution_count": 8,
     "metadata": {},
     "output_type": "execute_result"
    }
   ],
   "source": [
    "# Call function get_dataframe\n",
    "df = get_dataframe(raw_data)\n",
    "\n",
    "# View\n",
    "df.head()"
   ]
  },
  {
   "cell_type": "code",
   "execution_count": 11,
   "id": "8efc37e2",
   "metadata": {},
   "outputs": [],
   "source": [
    "# Save law data results from scrape api as csv. file\n",
    "df.to_csv('../data/df_raw_o_d.csv', index=False)"
   ]
  },
  {
   "cell_type": "markdown",
   "id": "9bba97c7",
   "metadata": {},
   "source": [
    "---"
   ]
  }
 ],
 "metadata": {
  "kernelspec": {
   "display_name": "Python 3 (ipykernel)",
   "language": "python",
   "name": "python3"
  },
  "language_info": {
   "codemirror_mode": {
    "name": "ipython",
    "version": 3
   },
   "file_extension": ".py",
   "mimetype": "text/x-python",
   "name": "python",
   "nbconvert_exporter": "python",
   "pygments_lexer": "ipython3",
   "version": "3.9.12"
  }
 },
 "nbformat": 4,
 "nbformat_minor": 5
}
