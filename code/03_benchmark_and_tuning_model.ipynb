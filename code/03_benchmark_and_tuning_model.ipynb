{
 "cells": [
  {
   "cell_type": "markdown",
   "id": "97f809e6",
   "metadata": {},
   "source": [
    "# Modelling Sections"
   ]
  },
  {
   "cell_type": "markdown",
   "id": "1cb0a407",
   "metadata": {},
   "source": [
    "**Tools selection**\n",
    "\n",
    "- Stemming\n",
    "- Lemmatization\n",
    "\n",
    "- TFIDFvectorizer \n",
    "- Dictvectorizer \n",
    "- Countvectorizer\n",
    "    - logistic regression\n",
    "    - randomforest\n",
    "    - Adaboostclassifier\n",
    "    - Multinomial nb\n",
    "    - Bernoulli nb\n"
   ]
  },
  {
   "cell_type": "markdown",
   "id": "1a23fb48",
   "metadata": {},
   "source": [
    "## Define Class"
   ]
  },
  {
   "cell_type": "code",
   "execution_count": 1,
   "id": "bed2c545",
   "metadata": {},
   "outputs": [],
   "source": [
    "class LemmaTokenizer(object):\n",
    "    def __init__(self):\n",
    "        self.wnl = WordNetLemmatizer()\n",
    "    def __call__(self, articles):\n",
    "        return [self.wnl.lemmatize(t) for t in word_tokenize(articles)]\n"
   ]
  },
  {
   "cell_type": "code",
   "execution_count": 2,
   "id": "47912360",
   "metadata": {},
   "outputs": [],
   "source": [
    "class StemTokenize(object):\n",
    "    def __init__(self):\n",
    "        self.ps = PorterStemmer()\n",
    "    def __call__(self, articles):\n",
    "        return [self.ps.stem(t) for t in word_tokenize(articles)]\n"
   ]
  },
  {
   "cell_type": "markdown",
   "id": "d1bf0c7c",
   "metadata": {},
   "source": [
    "## Define functions"
   ]
  },
  {
   "cell_type": "code",
   "execution_count": 3,
   "id": "74cd4982",
   "metadata": {},
   "outputs": [],
   "source": [
    "def featurize(text,option = 1):\n",
    "    '''Create dictiondary which add up text length into splitted text\n",
    "    Parameter : token_lst = text each document'''\n",
    "    #tokenized\n",
    "    tokenizer =  RegexpTokenizer(pattern='\\w+')\n",
    "    token_list = list(tokenizer.tokenize(text.lower()))\n",
    "    # remove stopword\n",
    "    token_list = [token for token in token_list if token not in  stopwords.words('english')]\n",
    "    # option 1\n",
    "    if option == 1:\n",
    "        features = {}\n",
    "        for token in token_list:\n",
    "            try :\n",
    "                features[token]+=1 \n",
    "            except :\n",
    "                features[token]=1\n",
    "    # option 2\n",
    "    elif option == 3:\n",
    "        features = {}\n",
    "        for token in token_list:\n",
    "            features[token]=1\n",
    "    # option 3\n",
    "    elif option == 2:\n",
    "        features = {}\n",
    "        for token in token_list:\n",
    "            try :\n",
    "                features[token]+=1 \n",
    "            except :\n",
    "                features[token]=1\n",
    "            \n",
    "        #   word count\n",
    "        features['word_count'] = len(token_list)\n",
    "    \n",
    "        #   sentiment score\n",
    "        sent = SentimentIntensityAnalyzer()\n",
    "        score = sent.polarity_scores(text)['compound']\n",
    "        # convert to classes\n",
    "        if score >= 0.0:\n",
    "            features['sentiment'] = 1\n",
    "        elif score < 0.0:\n",
    "            features['sentiment'] = 0 \n",
    "            \n",
    "        #   punctuation count\n",
    "        punctuations='!\\\"#$%&\\'()*+,-./:;<=>?@[\\]^_`{|}~'\n",
    "        hv_punc = {}\n",
    "        for i in punctuations:\n",
    "            hv_punc[str(i)+' count']=text.count(i)\n",
    "        features['punc_count'] = sum(hv_punc.values())\n",
    "        \n",
    "        \n",
    "            \n",
    "    return features"
   ]
  },
  {
   "cell_type": "code",
   "execution_count": 4,
   "id": "36865e4d",
   "metadata": {},
   "outputs": [],
   "source": [
    "def featurize_l(text,option = 1):\n",
    "    '''Create dictiondary which add up text length into splitted text\n",
    "    Parameter : token_lst = text each document'''\n",
    "    # Instantiate \n",
    "    tokenizer =  RegexpTokenizer(pattern='\\w+')\n",
    "    lemma = WordNetLemmatizer()\n",
    "    \n",
    "    #tokenized\n",
    "    token_list = list(tokenizer.tokenize(text.lower()))\n",
    "    # remove stopword\n",
    "    token_list = [token for token in token_list if token not in  stopwords.words('english')]\n",
    "#     add lemma step\n",
    "    token_list = [lemma.lemmatize(t) for t in token_list]\n",
    "    \n",
    "    # option 1\n",
    "    if option == 1:\n",
    "        features = {}\n",
    "        for token in token_list:\n",
    "            try :\n",
    "                features[token]+=1 \n",
    "            except :\n",
    "                features[token]=1\n",
    "    # option 2\n",
    "    elif option == 3:\n",
    "        features = {}\n",
    "        for token in token_list:\n",
    "            features[token]=1\n",
    "    # option 3\n",
    "    elif option == 2:\n",
    "        features = {}\n",
    "        for token in token_list:\n",
    "            try :\n",
    "                features[token]+=1 \n",
    "            except :\n",
    "                features[token]=1\n",
    "            \n",
    "        #   word count\n",
    "        features['word_count'] = len(token_list)\n",
    "    \n",
    "        #   sentiment score\n",
    "        sent = SentimentIntensityAnalyzer()\n",
    "        score = sent.polarity_scores(text)['compound']\n",
    "        # convert to classes\n",
    "        if score >= 0.0:\n",
    "            features['sentiment'] = 1\n",
    "        elif score < 0.0:\n",
    "            features['sentiment'] = 0 \n",
    "            \n",
    "        #   punctuation count\n",
    "        punctuations='!\\\"#$%&\\'()*+,-./:;<=>?@[\\]^_`{|}~'\n",
    "        hv_punc = {}\n",
    "        for i in punctuations:\n",
    "            hv_punc[str(i)+' count']=text.count(i)\n",
    "        features['punc_count'] = sum(hv_punc.values())\n",
    "        \n",
    "        \n",
    "            \n",
    "    return features"
   ]
  },
  {
   "cell_type": "code",
   "execution_count": 5,
   "id": "79fb0dcb",
   "metadata": {},
   "outputs": [],
   "source": [
    "def featurize_s(text,option = 1):\n",
    "    '''Create dictiondary which add up text length into splitted text\n",
    "    Parameter : token_lst = text each document'''\n",
    "    # Instantiate \n",
    "    tokenizer =  RegexpTokenizer(pattern='\\w+')\n",
    "    p_stem = PorterStemmer()\n",
    "    \n",
    "    #tokenized\n",
    "    token_list = list(tokenizer.tokenize(text.lower()))\n",
    "    # remove stopword\n",
    "    token_list = [token for token in token_list if token not in  stopwords.words('english')]\n",
    "    #   add stem step\n",
    "    token_list = [p_stem.stem(t) for t in token_list]\n",
    "    \n",
    "    # option 1\n",
    "    if option == 1:\n",
    "        features = {}\n",
    "        for token in token_list:\n",
    "            try :\n",
    "                features[token]+=1 \n",
    "            except :\n",
    "                features[token]=1\n",
    "    # option 2\n",
    "    elif option == 3:\n",
    "        features = {}\n",
    "        for token in token_list:\n",
    "            features[token]=1\n",
    "    # option 3\n",
    "    elif option == 2:\n",
    "        features = {}\n",
    "        for token in token_list:\n",
    "            try :\n",
    "                features[token]+=1 \n",
    "            except :\n",
    "                features[token]=1\n",
    "            \n",
    "        #   word count\n",
    "        features['word_count'] = len(token_list)\n",
    "    \n",
    "        #   sentiment score\n",
    "        sent = SentimentIntensityAnalyzer()\n",
    "        score = sent.polarity_scores(text)['compound']\n",
    "        # convert to classes\n",
    "        if score >= 0.0:\n",
    "            features['sentiment'] = 1\n",
    "        elif score < 0.0:\n",
    "            features['sentiment'] = 0 \n",
    "            \n",
    "        #   punctuation count\n",
    "        punctuations='!\\\"#$%&\\'()*+,-./:;<=>?@[\\]^_`{|}~'\n",
    "        hv_punc = {}\n",
    "        for i in punctuations:\n",
    "            hv_punc[str(i)+' count']=text.count(i)\n",
    "        features['punc_count'] = sum(hv_punc.values())\n",
    "        \n",
    "        \n",
    "            \n",
    "    return features"
   ]
  },
  {
   "cell_type": "code",
   "execution_count": 6,
   "id": "f6ad2bc5",
   "metadata": {},
   "outputs": [],
   "source": [
    "def report(X_train,X_test,y_train,y_test,*argv,gridsearch=False):\n",
    "    '''Show the classification report each model\n",
    "    \n",
    "    Parameter : X_test = test data of X\n",
    "                y_test = test data of y\n",
    "                argv = prediction of y values in each model\n",
    "                \n",
    "    Return : Classification report of each model'''\n",
    "    # if gridsearch model used \n",
    "    if gridsearch == True:\n",
    "        for j in (argv):\n",
    "            pred = j.predict(X_test)\n",
    "            print(f'Model : {j.estimator[1]}\\n\\n')\n",
    "            print(f'Train Score:{j.score(X_train,y_train)}\\n')\n",
    "            print(f'Test  Score:{j.score(X_test,y_test)}\\n\\n')\n",
    "            print(f'Model best parameters : {j.best_params_}\\n\\n classification report: \\n{classification_report(y_test,pred)}\\n')\n",
    "            print('\\n------------------------------------------------------------------------')\n",
    "    \n",
    "    elif gridsearch == False:\n",
    "        for j in (argv):\n",
    "            pred = j.predict(X_test)\n",
    "            print(f'Model : {j}\\n\\n')\n",
    "            print(f'Train Score:{j.score(X_train,y_train)}\\n')\n",
    "            print(f'Test  Score:{j.score(X_test,y_test)}\\n\\n')\n",
    "            print(f'Model classification report: \\n{classification_report(y_test,pred)}\\n')\n",
    "            print('\\n------------------------------------------------------------------------')\n",
    "    "
   ]
  },
  {
   "cell_type": "markdown",
   "id": "2f1160de",
   "metadata": {},
   "source": [
    "# Import Data & Libraries"
   ]
  },
  {
   "cell_type": "code",
   "execution_count": 7,
   "id": "b7379657",
   "metadata": {},
   "outputs": [],
   "source": [
    "import pandas as pd\n",
    "import matplotlib.pyplot as plt\n",
    "import seaborn as sns\n",
    "import numpy as np\n",
    "import warnings \n",
    "warnings.filterwarnings('ignore')\n",
    "import time\n",
    "import pickle\n",
    "\n",
    "from nltk.sentiment.vader import SentimentIntensityAnalyzer\n",
    "from nltk.stem import WordNetLemmatizer,PorterStemmer\n",
    "from nltk.tokenize import sent_tokenize, word_tokenize, RegexpTokenizer\n",
    "from sklearn.feature_extraction.text import CountVectorizer,TfidfVectorizer\n",
    "from sklearn.model_selection import train_test_split, GridSearchCV\n",
    "from sklearn.pipeline import Pipeline\n",
    "from sklearn.naive_bayes import MultinomialNB,BernoulliNB\n",
    "from sklearn.linear_model import LogisticRegression\n",
    "from sklearn.ensemble import ExtraTreesClassifier,RandomForestClassifier,AdaBoostClassifier\n",
    "from sklearn.metrics import confusion_matrix, plot_confusion_matrix,classification_report\n",
    "from sklearn.feature_extraction import DictVectorizer\n",
    "from sklearn import metrics\n",
    "from nltk.corpus import stopwords\n",
    "import re\n"
   ]
  },
  {
   "cell_type": "code",
   "execution_count": 8,
   "id": "5823078c",
   "metadata": {},
   "outputs": [],
   "source": [
    "df = pd.read_csv('../data/df_cleaned.csv')"
   ]
  },
  {
   "cell_type": "code",
   "execution_count": 9,
   "id": "3bfe7837",
   "metadata": {},
   "outputs": [
    {
     "data": {
      "text/plain": [
       "(1863, 7)"
      ]
     },
     "execution_count": 9,
     "metadata": {},
     "output_type": "execute_result"
    }
   ],
   "source": [
    "# Check shape\n",
    "df.shape"
   ]
  },
  {
   "cell_type": "code",
   "execution_count": 10,
   "id": "c7184c5c",
   "metadata": {
    "scrolled": true
   },
   "outputs": [
    {
     "name": "stdout",
     "output_type": "stream",
     "text": [
      "<class 'pandas.core.frame.DataFrame'>\n",
      "RangeIndex: 1863 entries, 0 to 1862\n",
      "Data columns (total 7 columns):\n",
      " #   Column           Non-Null Count  Dtype \n",
      "---  ------           --------------  ----- \n",
      " 0   title            1863 non-null   object\n",
      " 1   selftext         1863 non-null   object\n",
      " 2   subreddit        1863 non-null   object\n",
      " 3   text             1863 non-null   object\n",
      " 4   text_length      1863 non-null   int64 \n",
      " 5   text_word_count  1863 non-null   int64 \n",
      " 6   token_\\w+_count  1863 non-null   int64 \n",
      "dtypes: int64(3), object(4)\n",
      "memory usage: 102.0+ KB\n"
     ]
    }
   ],
   "source": [
    "df.info()"
   ]
  },
  {
   "cell_type": "code",
   "execution_count": 11,
   "id": "0ab58c20",
   "metadata": {},
   "outputs": [],
   "source": [
    "df[\"text\"] = df[\"text\"].str.lower().map(lambda x: re.sub(\"depression\", \"\", x))\n",
    "df[\"text\"] = df[\"text\"].str.lower().map(lambda x: re.sub(\"depressed\", \"\", x))"
   ]
  },
  {
   "cell_type": "code",
   "execution_count": 12,
   "id": "00dfd8b2",
   "metadata": {},
   "outputs": [],
   "source": [
    "df['subreddit'] = df['subreddit'].map({\"depression\":1,\n",
    "                                       \"offmychest\":0})"
   ]
  },
  {
   "cell_type": "markdown",
   "id": "6766f75d",
   "metadata": {},
   "source": [
    "## Train-test split"
   ]
  },
  {
   "cell_type": "code",
   "execution_count": 13,
   "id": "06605432",
   "metadata": {},
   "outputs": [],
   "source": [
    "X = df['text']\n",
    "y = df['subreddit']"
   ]
  },
  {
   "cell_type": "code",
   "execution_count": 14,
   "id": "0b5ac9b6",
   "metadata": {},
   "outputs": [],
   "source": [
    "X_train,X_test,y_train,y_test = train_test_split(X,y,\n",
    "                                                 random_state=42,\n",
    "                                                 stratify=y)"
   ]
  },
  {
   "cell_type": "code",
   "execution_count": 15,
   "id": "e9448550",
   "metadata": {},
   "outputs": [
    {
     "data": {
      "text/plain": [
       "((1397,), (466,), (1397,), (466,))"
      ]
     },
     "execution_count": 15,
     "metadata": {},
     "output_type": "execute_result"
    }
   ],
   "source": [
    "# Check shape each set\n",
    "X_train.shape,X_test.shape,y_train.shape,y_test.shape"
   ]
  },
  {
   "cell_type": "code",
   "execution_count": 16,
   "id": "bdbcd147",
   "metadata": {},
   "outputs": [],
   "source": [
    "cvec= CountVectorizer()\n",
    "X_cvec = cvec.fit_transform(X_train)"
   ]
  },
  {
   "cell_type": "code",
   "execution_count": 17,
   "id": "83614cba",
   "metadata": {},
   "outputs": [
    {
     "data": {
      "text/plain": [
       "1    52.36\n",
       "0    47.64\n",
       "Name: subreddit, dtype: float64"
      ]
     },
     "execution_count": 17,
     "metadata": {},
     "output_type": "execute_result"
    }
   ],
   "source": [
    "# Check y_test classes weight\n",
    "y_test.value_counts(normalize=True).mul(100).round(2)"
   ]
  },
  {
   "cell_type": "code",
   "execution_count": 18,
   "id": "42dd3d82",
   "metadata": {
    "scrolled": false
   },
   "outputs": [
    {
     "data": {
      "text/plain": [
       "1    52.33\n",
       "0    47.67\n",
       "Name: subreddit, dtype: float64"
      ]
     },
     "execution_count": 18,
     "metadata": {},
     "output_type": "execute_result"
    }
   ],
   "source": [
    "# Check y_train classes weight\n",
    "\n",
    "y_train.value_counts(normalize=True).mul(100).round(2)\n",
    "\n",
    "# seem balanced"
   ]
  },
  {
   "cell_type": "markdown",
   "id": "797b1525",
   "metadata": {},
   "source": [
    "# Baseline model"
   ]
  },
  {
   "cell_type": "code",
   "execution_count": 21,
   "id": "ae3bb241",
   "metadata": {},
   "outputs": [
    {
     "data": {
      "text/html": [
       "<style>#sk-container-id-2 {color: black;background-color: white;}#sk-container-id-2 pre{padding: 0;}#sk-container-id-2 div.sk-toggleable {background-color: white;}#sk-container-id-2 label.sk-toggleable__label {cursor: pointer;display: block;width: 100%;margin-bottom: 0;padding: 0.3em;box-sizing: border-box;text-align: center;}#sk-container-id-2 label.sk-toggleable__label-arrow:before {content: \"▸\";float: left;margin-right: 0.25em;color: #696969;}#sk-container-id-2 label.sk-toggleable__label-arrow:hover:before {color: black;}#sk-container-id-2 div.sk-estimator:hover label.sk-toggleable__label-arrow:before {color: black;}#sk-container-id-2 div.sk-toggleable__content {max-height: 0;max-width: 0;overflow: hidden;text-align: left;background-color: #f0f8ff;}#sk-container-id-2 div.sk-toggleable__content pre {margin: 0.2em;color: black;border-radius: 0.25em;background-color: #f0f8ff;}#sk-container-id-2 input.sk-toggleable__control:checked~div.sk-toggleable__content {max-height: 200px;max-width: 100%;overflow: auto;}#sk-container-id-2 input.sk-toggleable__control:checked~label.sk-toggleable__label-arrow:before {content: \"▾\";}#sk-container-id-2 div.sk-estimator input.sk-toggleable__control:checked~label.sk-toggleable__label {background-color: #d4ebff;}#sk-container-id-2 div.sk-label input.sk-toggleable__control:checked~label.sk-toggleable__label {background-color: #d4ebff;}#sk-container-id-2 input.sk-hidden--visually {border: 0;clip: rect(1px 1px 1px 1px);clip: rect(1px, 1px, 1px, 1px);height: 1px;margin: -1px;overflow: hidden;padding: 0;position: absolute;width: 1px;}#sk-container-id-2 div.sk-estimator {font-family: monospace;background-color: #f0f8ff;border: 1px dotted black;border-radius: 0.25em;box-sizing: border-box;margin-bottom: 0.5em;}#sk-container-id-2 div.sk-estimator:hover {background-color: #d4ebff;}#sk-container-id-2 div.sk-parallel-item::after {content: \"\";width: 100%;border-bottom: 1px solid gray;flex-grow: 1;}#sk-container-id-2 div.sk-label:hover label.sk-toggleable__label {background-color: #d4ebff;}#sk-container-id-2 div.sk-serial::before {content: \"\";position: absolute;border-left: 1px solid gray;box-sizing: border-box;top: 0;bottom: 0;left: 50%;z-index: 0;}#sk-container-id-2 div.sk-serial {display: flex;flex-direction: column;align-items: center;background-color: white;padding-right: 0.2em;padding-left: 0.2em;position: relative;}#sk-container-id-2 div.sk-item {position: relative;z-index: 1;}#sk-container-id-2 div.sk-parallel {display: flex;align-items: stretch;justify-content: center;background-color: white;position: relative;}#sk-container-id-2 div.sk-item::before, #sk-container-id-2 div.sk-parallel-item::before {content: \"\";position: absolute;border-left: 1px solid gray;box-sizing: border-box;top: 0;bottom: 0;left: 50%;z-index: -1;}#sk-container-id-2 div.sk-parallel-item {display: flex;flex-direction: column;z-index: 1;position: relative;background-color: white;}#sk-container-id-2 div.sk-parallel-item:first-child::after {align-self: flex-end;width: 50%;}#sk-container-id-2 div.sk-parallel-item:last-child::after {align-self: flex-start;width: 50%;}#sk-container-id-2 div.sk-parallel-item:only-child::after {width: 0;}#sk-container-id-2 div.sk-dashed-wrapped {border: 1px dashed gray;margin: 0 0.4em 0.5em 0.4em;box-sizing: border-box;padding-bottom: 0.4em;background-color: white;}#sk-container-id-2 div.sk-label label {font-family: monospace;font-weight: bold;display: inline-block;line-height: 1.2em;}#sk-container-id-2 div.sk-label-container {text-align: center;}#sk-container-id-2 div.sk-container {/* jupyter's `normalize.less` sets `[hidden] { display: none; }` but bootstrap.min.css set `[hidden] { display: none !important; }` so we also need the `!important` here to be able to override the default hidden behavior on the sphinx rendered scikit-learn.org. See: https://github.com/scikit-learn/scikit-learn/issues/21755 */display: inline-block !important;position: relative;}#sk-container-id-2 div.sk-text-repr-fallback {display: none;}</style><div id=\"sk-container-id-2\" class=\"sk-top-container\"><div class=\"sk-text-repr-fallback\"><pre>Pipeline(steps=[(&#x27;cvec&#x27;, CountVectorizer(stop_words=&#x27;english&#x27;)),\n",
       "                (&#x27;logreg&#x27;, LogisticRegression(penalty=&#x27;none&#x27;))])</pre><b>In a Jupyter environment, please rerun this cell to show the HTML representation or trust the notebook. <br />On GitHub, the HTML representation is unable to render, please try loading this page with nbviewer.org.</b></div><div class=\"sk-container\" hidden><div class=\"sk-item sk-dashed-wrapped\"><div class=\"sk-label-container\"><div class=\"sk-label sk-toggleable\"><input class=\"sk-toggleable__control sk-hidden--visually\" id=\"sk-estimator-id-4\" type=\"checkbox\" ><label for=\"sk-estimator-id-4\" class=\"sk-toggleable__label sk-toggleable__label-arrow\">Pipeline</label><div class=\"sk-toggleable__content\"><pre>Pipeline(steps=[(&#x27;cvec&#x27;, CountVectorizer(stop_words=&#x27;english&#x27;)),\n",
       "                (&#x27;logreg&#x27;, LogisticRegression(penalty=&#x27;none&#x27;))])</pre></div></div></div><div class=\"sk-serial\"><div class=\"sk-item\"><div class=\"sk-estimator sk-toggleable\"><input class=\"sk-toggleable__control sk-hidden--visually\" id=\"sk-estimator-id-5\" type=\"checkbox\" ><label for=\"sk-estimator-id-5\" class=\"sk-toggleable__label sk-toggleable__label-arrow\">CountVectorizer</label><div class=\"sk-toggleable__content\"><pre>CountVectorizer(stop_words=&#x27;english&#x27;)</pre></div></div></div><div class=\"sk-item\"><div class=\"sk-estimator sk-toggleable\"><input class=\"sk-toggleable__control sk-hidden--visually\" id=\"sk-estimator-id-6\" type=\"checkbox\" ><label for=\"sk-estimator-id-6\" class=\"sk-toggleable__label sk-toggleable__label-arrow\">LogisticRegression</label><div class=\"sk-toggleable__content\"><pre>LogisticRegression(penalty=&#x27;none&#x27;)</pre></div></div></div></div></div></div></div>"
      ],
      "text/plain": [
       "Pipeline(steps=[('cvec', CountVectorizer(stop_words='english')),\n",
       "                ('logreg', LogisticRegression(penalty='none'))])"
      ]
     },
     "execution_count": 21,
     "metadata": {},
     "output_type": "execute_result"
    }
   ],
   "source": [
    "pipe = Pipeline([('cvec',CountVectorizer(stop_words=\"english\")),\n",
    "                    ('logreg',LogisticRegression(penalty='none'))])\n",
    "pipe.fit(X_train,y_train)"
   ]
  },
  {
   "cell_type": "code",
   "execution_count": 22,
   "id": "c7ac5f9d",
   "metadata": {},
   "outputs": [
    {
     "name": "stdout",
     "output_type": "stream",
     "text": [
      "Model : Pipeline(steps=[('cvec', CountVectorizer(stop_words='english')),\n",
      "                ('logreg', LogisticRegression(penalty='none'))])\n",
      "\n",
      "\n",
      "Train Score:0.9985683607730852\n",
      "\n",
      "Test  Score:0.7081545064377682\n",
      "\n",
      "\n",
      "Model classification report: \n",
      "              precision    recall  f1-score   support\n",
      "\n",
      "           0       0.68      0.73      0.70       222\n",
      "           1       0.73      0.69      0.71       244\n",
      "\n",
      "    accuracy                           0.71       466\n",
      "   macro avg       0.71      0.71      0.71       466\n",
      "weighted avg       0.71      0.71      0.71       466\n",
      "\n",
      "\n",
      "\n",
      "------------------------------------------------------------------------\n"
     ]
    }
   ],
   "source": [
    "report(X_train, X_test, y_train, y_test, pipe)"
   ]
  },
  {
   "cell_type": "code",
   "execution_count": 23,
   "id": "a935d9c2",
   "metadata": {},
   "outputs": [],
   "source": [
    "# coefficient plotting\n",
    "\n",
    "logreg_coef = pd.DataFrame(pipe.named_steps.logreg.coef_, columns = pipe[:-1].get_feature_names_out()).T.sort_values(by=0,ascending=False)"
   ]
  },
  {
   "cell_type": "code",
   "execution_count": null,
   "id": "39a711a3",
   "metadata": {},
   "outputs": [],
   "source": []
  },
  {
   "cell_type": "code",
   "execution_count": 24,
   "id": "983c23f4",
   "metadata": {},
   "outputs": [],
   "source": [
    "# Create new column to by specify color to value of the coefficient, if positive will be blue\n",
    "logreg_coef['color_list'] = ['mediumblue' if x >= 0 else 'darkorange' for x in logreg_coef[0].values]\n",
    "# take absolute of all the values, and reverse. To get only first 20 highest values.\n",
    "top_20 = [i for i in abs(logreg_coef[0]).sort_values(ascending=False).index[:20][::-1]]"
   ]
  },
  {
   "cell_type": "code",
   "execution_count": 25,
   "id": "c5a26d5f",
   "metadata": {
    "scrolled": false
   },
   "outputs": [
    {
     "data": {
      "image/png": "[encoded data removed]",
      "text/plain": [
       "<Figure size 1440x720 with 1 Axes>"
      ]
     },
     "metadata": {
      "needs_background": "light"
     },
     "output_type": "display_data"
    }
   ],
   "source": [
    "pipe = Pipeline([('cvec',CountVectorizer(ngram_range=(2,2),stop_words='english')),('logreg',LogisticRegression())])\n",
    "pipe.fit(X_train,y_train)\n",
    "pred = pipe.predict(X_test)\n",
    "# coefficient plotting\n",
    "\n",
    "logreg_coef = pd.DataFrame(pipe.named_steps.logreg.coef_, columns = pipe[:-1].get_feature_names_out()).T.sort_values(by=0,ascending=False)\n",
    "# Create new column to by specify color to value of the coefficient, if positive will be blue\n",
    "logreg_coef['color_list'] = ['mediumblue' if x >= 0 else 'darkorange' for x in logreg_coef[0].values]\n",
    "# take absolute of all the values, and reverse. To get only first 20 highest values.\n",
    "top_20 = [i for i in abs(logreg_coef[0]).sort_values(ascending=False).index[:20][::-1]]\n",
    "plt.figure(figsize=(20,10))\n",
    "plt.barh(logreg_coef[0].loc[top_20].index,\\\n",
    "         logreg_coef[0].loc[top_20],\\\n",
    "         color=logreg_coef.loc[top_20]['color_list'])\n",
    "plt.title('Top 20 highest correlated variables to the Depression',size=20)\n",
    "plt.yticks(fontsize=15);\n",
    "plt.xticks(fontsize=15)\n",
    "plt.grid(alpha = 0.5)"
   ]
  },
  {
   "cell_type": "markdown",
   "id": "29835c02",
   "metadata": {},
   "source": [
    "## Countvectorizer"
   ]
  },
  {
   "cell_type": "code",
   "execution_count": 26,
   "id": "a716c571",
   "metadata": {
    "scrolled": true
   },
   "outputs": [
    {
     "name": "stdout",
     "output_type": "stream",
     "text": [
      "Fitting 3 folds for each of 32 candidates, totalling 96 fits\n",
      "Model : LogisticRegression(penalty='none')\n",
      "\n",
      "\n",
      "Train Score:0.9985683607730852\n",
      "\n",
      "Test  Score:0.6888412017167382\n",
      "\n",
      "\n",
      "Model best parameters : {'cvec__max_df': 1.0, 'cvec__max_features': 1500, 'cvec__min_df': 2, 'cvec__ngram_range': (1, 2), 'cvec__stop_words': 'english'}\n",
      "\n",
      " classification report: \n",
      "              precision    recall  f1-score   support\n",
      "\n",
      "           0       0.68      0.64      0.66       222\n",
      "           1       0.69      0.73      0.71       244\n",
      "\n",
      "    accuracy                           0.69       466\n",
      "   macro avg       0.69      0.69      0.69       466\n",
      "weighted avg       0.69      0.69      0.69       466\n",
      "\n",
      "\n",
      "\n",
      "------------------------------------------------------------------------\n",
      "finish\n",
      "\n",
      "Fitting 3 folds for each of 32 candidates, totalling 96 fits\n",
      "Model : RandomForestClassifier()\n",
      "\n",
      "\n",
      "Train Score:0.9971367215461704\n",
      "\n",
      "Test  Score:0.6952789699570815\n",
      "\n",
      "\n",
      "Model best parameters : {'cvec__max_df': 0.98, 'cvec__max_features': 500, 'cvec__min_df': 2, 'cvec__ngram_range': (1, 2), 'cvec__stop_words': 'english'}\n",
      "\n",
      " classification report: \n",
      "              precision    recall  f1-score   support\n",
      "\n",
      "           0       0.67      0.70      0.69       222\n",
      "           1       0.72      0.69      0.70       244\n",
      "\n",
      "    accuracy                           0.70       466\n",
      "   macro avg       0.70      0.70      0.70       466\n",
      "weighted avg       0.70      0.70      0.70       466\n",
      "\n",
      "\n",
      "\n",
      "------------------------------------------------------------------------\n",
      "finish\n",
      "\n",
      "Fitting 3 folds for each of 32 candidates, totalling 96 fits\n",
      "Model : AdaBoostClassifier()\n",
      "\n",
      "\n",
      "Train Score:0.7738010021474588\n",
      "\n",
      "Test  Score:0.6716738197424893\n",
      "\n",
      "\n",
      "Model best parameters : {'cvec__max_df': 1.0, 'cvec__max_features': 500, 'cvec__min_df': 2, 'cvec__ngram_range': (1, 2), 'cvec__stop_words': 'english'}\n",
      "\n",
      " classification report: \n",
      "              precision    recall  f1-score   support\n",
      "\n",
      "           0       0.67      0.61      0.64       222\n",
      "           1       0.67      0.73      0.70       244\n",
      "\n",
      "    accuracy                           0.67       466\n",
      "   macro avg       0.67      0.67      0.67       466\n",
      "weighted avg       0.67      0.67      0.67       466\n",
      "\n",
      "\n",
      "\n",
      "------------------------------------------------------------------------\n",
      "finish\n",
      "\n",
      "Fitting 3 folds for each of 32 candidates, totalling 96 fits\n",
      "Model : MultinomialNB()\n",
      "\n",
      "\n",
      "Train Score:0.8239083750894775\n",
      "\n",
      "Test  Score:0.7660944206008584\n",
      "\n",
      "\n",
      "Model best parameters : {'cvec__max_df': 1.0, 'cvec__max_features': 1200, 'cvec__min_df': 2, 'cvec__ngram_range': (1, 2), 'cvec__stop_words': 'english'}\n",
      "\n",
      " classification report: \n",
      "              precision    recall  f1-score   support\n",
      "\n",
      "           0       0.79      0.69      0.74       222\n",
      "           1       0.75      0.84      0.79       244\n",
      "\n",
      "    accuracy                           0.77       466\n",
      "   macro avg       0.77      0.76      0.76       466\n",
      "weighted avg       0.77      0.77      0.76       466\n",
      "\n",
      "\n",
      "\n",
      "------------------------------------------------------------------------\n",
      "finish\n",
      "\n",
      "\n",
      "It's take :284.2896192073822 seconds\n"
     ]
    }
   ],
   "source": [
    "# list \n",
    "acc,pre,recall,f1,tn,fp,fn,tp,name_model =  [],[],[],[],[],[],[],[],[]\n",
    "\n",
    "\n",
    "# model\n",
    "model = [LogisticRegression(penalty='none'),\n",
    "         RandomForestClassifier(),\n",
    "         AdaBoostClassifier(),MultinomialNB()]\n",
    "\n",
    "\n",
    "t0 = time.time()\n",
    "for mod in model:\n",
    "    pipe = Pipeline([('cvec',CountVectorizer()),('est',mod)])\n",
    "    param = { 'cvec__stop_words':['english'],\n",
    "    'cvec__ngram_range':[(1,2),(2,2)],\n",
    "    'cvec__max_df':[1.,.98],\n",
    "    'cvec__min_df':[1,2],\n",
    "    'cvec__max_features':[500,700,1200,1500]}\n",
    "    gs = GridSearchCV(pipe,param_grid=param,cv=3,verbose=1)\n",
    "    #fit\n",
    "    gs.fit(X_train,y_train)\n",
    "    #pred\n",
    "    pred = gs.predict(X_test)\n",
    "    \n",
    "    report(X_train,X_test,y_train,y_test,gs,gridsearch=True)\n",
    "    #score\n",
    "    acc.append(metrics.accuracy_score(y_test,pred))\n",
    "    pre.append(metrics.precision_score(y_test,pred))\n",
    "    recall.append(metrics.recall_score(y_test,pred))\n",
    "    f1.append(metrics.f1_score(y_test,pred))\n",
    "    name_model.append(mod)\n",
    "    #confusion matrix\n",
    "    tn.append(confusion_matrix(y_test,pred)[0][0])\n",
    "    fp.append(confusion_matrix(y_test,pred)[0][1])\n",
    "    fn.append(confusion_matrix(y_test,pred)[1][0])\n",
    "    tp.append(confusion_matrix(y_test,pred)[1][1])\n",
    "    \n",
    "    \n",
    "    print('finish\\n')\n",
    "result_cvec =pd.DataFrame(data = [acc,pre,recall,f1,tn,fp,fn,tp,name_model],\\\n",
    "             index = ['accuracy','precision','recall','f1_score','tn','fp','fn','tp','name_model'])\n",
    "print(f'\\nIt\\'s take :{time.time()-t0} seconds')\n",
    "    "
   ]
  },
  {
   "cell_type": "code",
   "execution_count": 27,
   "id": "fd2e9362",
   "metadata": {
    "scrolled": true
   },
   "outputs": [
    {
     "data": {
      "text/html": [
       "<div>\n",
       "<style scoped>\n",
       "    .dataframe tbody tr th:only-of-type {\n",
       "        vertical-align: middle;\n",
       "    }\n",
       "\n",
       "    .dataframe tbody tr th {\n",
       "        vertical-align: top;\n",
       "    }\n",
       "\n",
       "    .dataframe thead th {\n",
       "        text-align: right;\n",
       "    }\n",
       "</style>\n",
       "<table border=\"1\" class=\"dataframe\">\n",
       "  <thead>\n",
       "    <tr style=\"text-align: right;\">\n",
       "      <th></th>\n",
       "      <th>accuracy</th>\n",
       "      <th>precision</th>\n",
       "      <th>recall</th>\n",
       "      <th>f1_score</th>\n",
       "      <th>tn</th>\n",
       "      <th>fp</th>\n",
       "      <th>fn</th>\n",
       "      <th>tp</th>\n",
       "      <th>name_model</th>\n",
       "    </tr>\n",
       "  </thead>\n",
       "  <tbody>\n",
       "    <tr>\n",
       "      <th>0</th>\n",
       "      <td>0.688841</td>\n",
       "      <td>0.692607</td>\n",
       "      <td>0.729508</td>\n",
       "      <td>0.710579</td>\n",
       "      <td>143</td>\n",
       "      <td>79</td>\n",
       "      <td>66</td>\n",
       "      <td>178</td>\n",
       "      <td>LogisticRegression(penalty='none')</td>\n",
       "    </tr>\n",
       "    <tr>\n",
       "      <th>1</th>\n",
       "      <td>0.695279</td>\n",
       "      <td>0.717949</td>\n",
       "      <td>0.688525</td>\n",
       "      <td>0.702929</td>\n",
       "      <td>156</td>\n",
       "      <td>66</td>\n",
       "      <td>76</td>\n",
       "      <td>168</td>\n",
       "      <td>RandomForestClassifier()</td>\n",
       "    </tr>\n",
       "    <tr>\n",
       "      <th>2</th>\n",
       "      <td>0.671674</td>\n",
       "      <td>0.673004</td>\n",
       "      <td>0.72541</td>\n",
       "      <td>0.698225</td>\n",
       "      <td>136</td>\n",
       "      <td>86</td>\n",
       "      <td>67</td>\n",
       "      <td>177</td>\n",
       "      <td>AdaBoostClassifier()</td>\n",
       "    </tr>\n",
       "    <tr>\n",
       "      <th>3</th>\n",
       "      <td>0.766094</td>\n",
       "      <td>0.747253</td>\n",
       "      <td>0.836066</td>\n",
       "      <td>0.789168</td>\n",
       "      <td>153</td>\n",
       "      <td>69</td>\n",
       "      <td>40</td>\n",
       "      <td>204</td>\n",
       "      <td>MultinomialNB()</td>\n",
       "    </tr>\n",
       "  </tbody>\n",
       "</table>\n",
       "</div>"
      ],
      "text/plain": [
       "   accuracy precision    recall  f1_score   tn  fp  fn   tp  \\\n",
       "0  0.688841  0.692607  0.729508  0.710579  143  79  66  178   \n",
       "1  0.695279  0.717949  0.688525  0.702929  156  66  76  168   \n",
       "2  0.671674  0.673004   0.72541  0.698225  136  86  67  177   \n",
       "3  0.766094  0.747253  0.836066  0.789168  153  69  40  204   \n",
       "\n",
       "                           name_model  \n",
       "0  LogisticRegression(penalty='none')  \n",
       "1            RandomForestClassifier()  \n",
       "2                AdaBoostClassifier()  \n",
       "3                     MultinomialNB()  "
      ]
     },
     "execution_count": 27,
     "metadata": {},
     "output_type": "execute_result"
    }
   ],
   "source": [
    "result_cvec.T"
   ]
  },
  {
   "cell_type": "code",
   "execution_count": 28,
   "id": "9c11b00b",
   "metadata": {},
   "outputs": [
    {
     "data": {
      "text/plain": [
       "0.8360655737704918"
      ]
     },
     "execution_count": 28,
     "metadata": {},
     "output_type": "execute_result"
    }
   ],
   "source": [
    "result_cvec.T['recall'].max()"
   ]
  },
  {
   "cell_type": "markdown",
   "id": "b72b51a4",
   "metadata": {},
   "source": [
    "## TFIDFvectorizer"
   ]
  },
  {
   "cell_type": "code",
   "execution_count": 29,
   "id": "fbe98bc2",
   "metadata": {
    "collapsed": true
   },
   "outputs": [
    {
     "name": "stdout",
     "output_type": "stream",
     "text": [
      "Fitting 3 folds for each of 32 candidates, totalling 96 fits\n",
      "Model : LogisticRegression(penalty='none')\n",
      "\n",
      "\n",
      "Train Score:0.9985683607730852\n",
      "\n",
      "Test  Score:0.6824034334763949\n",
      "\n",
      "\n",
      "Model best parameters : {'tf__max_df': 1.0, 'tf__max_features': 1500, 'tf__min_df': 2, 'tf__ngram_range': (1, 2), 'tf__stop_words': 'english'}\n",
      "\n",
      " classification report: \n",
      "              precision    recall  f1-score   support\n",
      "\n",
      "           0       0.66      0.69      0.68       222\n",
      "           1       0.71      0.67      0.69       244\n",
      "\n",
      "    accuracy                           0.68       466\n",
      "   macro avg       0.68      0.68      0.68       466\n",
      "weighted avg       0.68      0.68      0.68       466\n",
      "\n",
      "\n",
      "\n",
      "------------------------------------------------------------------------\n",
      "finish\n",
      "\n",
      "Fitting 3 folds for each of 32 candidates, totalling 96 fits\n",
      "Model : RandomForestClassifier()\n",
      "\n",
      "\n",
      "Train Score:0.9985683607730852\n",
      "\n",
      "Test  Score:0.7124463519313304\n",
      "\n",
      "\n",
      "Model best parameters : {'tf__max_df': 0.98, 'tf__max_features': 1500, 'tf__min_df': 2, 'tf__ngram_range': (1, 2), 'tf__stop_words': 'english'}\n",
      "\n",
      " classification report: \n",
      "              precision    recall  f1-score   support\n",
      "\n",
      "           0       0.71      0.67      0.69       222\n",
      "           1       0.71      0.75      0.73       244\n",
      "\n",
      "    accuracy                           0.71       466\n",
      "   macro avg       0.71      0.71      0.71       466\n",
      "weighted avg       0.71      0.71      0.71       466\n",
      "\n",
      "\n",
      "\n",
      "------------------------------------------------------------------------\n",
      "finish\n",
      "\n",
      "Fitting 3 folds for each of 32 candidates, totalling 96 fits\n",
      "Model : AdaBoostClassifier()\n",
      "\n",
      "\n",
      "Train Score:0.82319255547602\n",
      "\n",
      "Test  Score:0.6652360515021459\n",
      "\n",
      "\n",
      "Model best parameters : {'tf__max_df': 1.0, 'tf__max_features': 1500, 'tf__min_df': 2, 'tf__ngram_range': (1, 2), 'tf__stop_words': 'english'}\n",
      "\n",
      " classification report: \n",
      "              precision    recall  f1-score   support\n",
      "\n",
      "           0       0.65      0.64      0.65       222\n",
      "           1       0.68      0.69      0.68       244\n",
      "\n",
      "    accuracy                           0.67       466\n",
      "   macro avg       0.66      0.66      0.66       466\n",
      "weighted avg       0.67      0.67      0.67       466\n",
      "\n",
      "\n",
      "\n",
      "------------------------------------------------------------------------\n",
      "finish\n",
      "\n",
      "Fitting 3 folds for each of 32 candidates, totalling 96 fits\n",
      "Model : MultinomialNB()\n",
      "\n",
      "\n",
      "Train Score:0.8446671438797423\n",
      "\n",
      "Test  Score:0.7811158798283262\n",
      "\n",
      "\n",
      "Model best parameters : {'tf__max_df': 1.0, 'tf__max_features': 1200, 'tf__min_df': 1, 'tf__ngram_range': (1, 2), 'tf__stop_words': 'english'}\n",
      "\n",
      " classification report: \n",
      "              precision    recall  f1-score   support\n",
      "\n",
      "           0       0.82      0.70      0.75       222\n",
      "           1       0.76      0.86      0.80       244\n",
      "\n",
      "    accuracy                           0.78       466\n",
      "   macro avg       0.79      0.78      0.78       466\n",
      "weighted avg       0.79      0.78      0.78       466\n",
      "\n",
      "\n",
      "\n",
      "------------------------------------------------------------------------\n",
      "finish\n",
      "\n",
      "\n",
      "It's take :308.33859729766846 seconds\n"
     ]
    }
   ],
   "source": [
    "# list \n",
    "acc,pre,recall,f1,tn,fp,fn,tp,name_model =  [],[],[],[],[],[],[],[],[]\n",
    "\n",
    "\n",
    "# model\n",
    "model = [LogisticRegression(penalty='none'),\n",
    "         RandomForestClassifier(),\n",
    "         AdaBoostClassifier(),\n",
    "         MultinomialNB()]\n",
    "\n",
    "t0 = time.time()\n",
    "for mod in model:\n",
    "    pipe = Pipeline([('tf',TfidfVectorizer()),('est',mod)])\n",
    "    param = { 'tf__stop_words':['english'],\n",
    "    'tf__ngram_range':[(1,2),(2,2)],\n",
    "    'tf__max_df':[1.,.98],\n",
    "    'tf__min_df':[1,2],\n",
    "    'tf__max_features':[500,700,1200,1500]}\n",
    "    gs = GridSearchCV(pipe,param_grid=param,cv=3,verbose=1)\n",
    "    # fit\n",
    "    gs.fit(X_train,y_train)\n",
    "    \n",
    "    # prediction\n",
    "    pred = gs.predict(X_test)\n",
    "    report(X_train,X_test,y_train,y_test,gs,gridsearch=True)\n",
    "    \n",
    "    #score\n",
    "    acc.append(metrics.accuracy_score(y_test,pred))\n",
    "    pre.append(metrics.precision_score(y_test,pred))\n",
    "    recall.append(metrics.recall_score(y_test,pred))\n",
    "    f1.append(metrics.f1_score(y_test,pred))\n",
    "    name_model.append(mod)\n",
    "    #confusion matrix\n",
    "    tn.append(confusion_matrix(y_test,pred)[0][0])\n",
    "    fp.append(confusion_matrix(y_test,pred)[0][1])\n",
    "    fn.append(confusion_matrix(y_test,pred)[1][0])\n",
    "    tp.append(confusion_matrix(y_test,pred)[1][1])\n",
    "    \n",
    "    \n",
    "    print('finish\\n')\n",
    "result_tf =pd.DataFrame(data = [acc,pre,recall,f1,tn,fp,fn,tp,name_model],\\\n",
    "             index = ['accuracy','precision','recall','f1_score','tn','fp','fn','tp','name_model'])\n",
    "print(f'\\nIt\\'s take :{time.time()-t0} seconds')\n"
   ]
  },
  {
   "cell_type": "code",
   "execution_count": 30,
   "id": "f0031646",
   "metadata": {},
   "outputs": [
    {
     "data": {
      "text/plain": [
       "<sklearn.metrics._plot.confusion_matrix.ConfusionMatrixDisplay at 0x191781a1160>"
      ]
     },
     "execution_count": 30,
     "metadata": {},
     "output_type": "execute_result"
    },
    {
     "data": {
      "image/png": "[encoded data removed]",
      "text/plain": [
       "<Figure size 432x288 with 1 Axes>"
      ]
     },
     "metadata": {
      "needs_background": "light"
     },
     "output_type": "display_data"
    }
   ],
   "source": [
    "plot_confusion_matrix(gs,X_test,y_test,display_labels=['Venting', 'Depression'],colorbar=False,cmap=plt.cm.Blues)"
   ]
  },
  {
   "cell_type": "code",
   "execution_count": 31,
   "id": "7dbff4e4",
   "metadata": {
    "scrolled": true
   },
   "outputs": [
    {
     "data": {
      "text/html": [
       "<div>\n",
       "<style scoped>\n",
       "    .dataframe tbody tr th:only-of-type {\n",
       "        vertical-align: middle;\n",
       "    }\n",
       "\n",
       "    .dataframe tbody tr th {\n",
       "        vertical-align: top;\n",
       "    }\n",
       "\n",
       "    .dataframe thead th {\n",
       "        text-align: right;\n",
       "    }\n",
       "</style>\n",
       "<table border=\"1\" class=\"dataframe\">\n",
       "  <thead>\n",
       "    <tr style=\"text-align: right;\">\n",
       "      <th></th>\n",
       "      <th>accuracy</th>\n",
       "      <th>precision</th>\n",
       "      <th>recall</th>\n",
       "      <th>f1_score</th>\n",
       "      <th>tn</th>\n",
       "      <th>fp</th>\n",
       "      <th>fn</th>\n",
       "      <th>tp</th>\n",
       "      <th>name_model</th>\n",
       "    </tr>\n",
       "  </thead>\n",
       "  <tbody>\n",
       "    <tr>\n",
       "      <th>0</th>\n",
       "      <td>0.682403</td>\n",
       "      <td>0.706897</td>\n",
       "      <td>0.672131</td>\n",
       "      <td>0.689076</td>\n",
       "      <td>154</td>\n",
       "      <td>68</td>\n",
       "      <td>80</td>\n",
       "      <td>164</td>\n",
       "      <td>LogisticRegression(penalty='none')</td>\n",
       "    </tr>\n",
       "    <tr>\n",
       "      <th>1</th>\n",
       "      <td>0.712446</td>\n",
       "      <td>0.714844</td>\n",
       "      <td>0.75</td>\n",
       "      <td>0.732</td>\n",
       "      <td>149</td>\n",
       "      <td>73</td>\n",
       "      <td>61</td>\n",
       "      <td>183</td>\n",
       "      <td>RandomForestClassifier()</td>\n",
       "    </tr>\n",
       "    <tr>\n",
       "      <th>2</th>\n",
       "      <td>0.665236</td>\n",
       "      <td>0.677419</td>\n",
       "      <td>0.688525</td>\n",
       "      <td>0.682927</td>\n",
       "      <td>142</td>\n",
       "      <td>80</td>\n",
       "      <td>76</td>\n",
       "      <td>168</td>\n",
       "      <td>AdaBoostClassifier()</td>\n",
       "    </tr>\n",
       "    <tr>\n",
       "      <th>3</th>\n",
       "      <td>0.781116</td>\n",
       "      <td>0.757246</td>\n",
       "      <td>0.856557</td>\n",
       "      <td>0.803846</td>\n",
       "      <td>155</td>\n",
       "      <td>67</td>\n",
       "      <td>35</td>\n",
       "      <td>209</td>\n",
       "      <td>MultinomialNB()</td>\n",
       "    </tr>\n",
       "  </tbody>\n",
       "</table>\n",
       "</div>"
      ],
      "text/plain": [
       "   accuracy precision    recall  f1_score   tn  fp  fn   tp  \\\n",
       "0  0.682403  0.706897  0.672131  0.689076  154  68  80  164   \n",
       "1  0.712446  0.714844      0.75     0.732  149  73  61  183   \n",
       "2  0.665236  0.677419  0.688525  0.682927  142  80  76  168   \n",
       "3  0.781116  0.757246  0.856557  0.803846  155  67  35  209   \n",
       "\n",
       "                           name_model  \n",
       "0  LogisticRegression(penalty='none')  \n",
       "1            RandomForestClassifier()  \n",
       "2                AdaBoostClassifier()  \n",
       "3                     MultinomialNB()  "
      ]
     },
     "execution_count": 31,
     "metadata": {},
     "output_type": "execute_result"
    }
   ],
   "source": [
    "result_tf.T"
   ]
  },
  {
   "cell_type": "code",
   "execution_count": 32,
   "id": "5e27ed47",
   "metadata": {},
   "outputs": [
    {
     "data": {
      "text/plain": [
       "0.8565573770491803"
      ]
     },
     "execution_count": 32,
     "metadata": {},
     "output_type": "execute_result"
    }
   ],
   "source": [
    "result_tf.T['recall'].max()"
   ]
  },
  {
   "cell_type": "markdown",
   "id": "ef6e3141",
   "metadata": {},
   "source": [
    "## Dict vectorizer "
   ]
  },
  {
   "cell_type": "markdown",
   "id": "1ba94e1b",
   "metadata": {},
   "source": [
    "- **Dictvectorizer section will contain these models:**\n",
    "    - Dictvectorizer count by add up duplicate text (5 Model)\n",
    "    - Dicvectorizer count by uniqe text (5 Model + Bernoullinb)\n",
    "    - Dicvectorizer add features created"
   ]
  },
  {
   "cell_type": "code",
   "execution_count": 33,
   "id": "4264e7f3",
   "metadata": {
    "scrolled": true
   },
   "outputs": [
    {
     "name": "stdout",
     "output_type": "stream",
     "text": [
      "Model : Pipeline(steps=[('dic', DictVectorizer()),\n",
      "                ('mod', LogisticRegression(penalty='none'))])\n",
      "\n",
      "\n",
      "Train Score:0.9985683607730852\n",
      "\n",
      "Test  Score:0.7167381974248928\n",
      "\n",
      "\n",
      "Model classification report: \n",
      "              precision    recall  f1-score   support\n",
      "\n",
      "           0       0.70      0.71      0.71       222\n",
      "           1       0.73      0.72      0.73       244\n",
      "\n",
      "    accuracy                           0.72       466\n",
      "   macro avg       0.72      0.72      0.72       466\n",
      "weighted avg       0.72      0.72      0.72       466\n",
      "\n",
      "\n",
      "\n",
      "------------------------------------------------------------------------\n",
      "Model : Pipeline(steps=[('dic', DictVectorizer()), ('mod', RandomForestClassifier())])\n",
      "\n",
      "\n",
      "Train Score:0.9985683607730852\n",
      "\n",
      "Test  Score:0.6824034334763949\n",
      "\n",
      "\n",
      "Model classification report: \n",
      "              precision    recall  f1-score   support\n",
      "\n",
      "           0       0.67      0.66      0.66       222\n",
      "           1       0.69      0.70      0.70       244\n",
      "\n",
      "    accuracy                           0.68       466\n",
      "   macro avg       0.68      0.68      0.68       466\n",
      "weighted avg       0.68      0.68      0.68       466\n",
      "\n",
      "\n",
      "\n",
      "------------------------------------------------------------------------\n",
      "Model : Pipeline(steps=[('dic', DictVectorizer()), ('mod', AdaBoostClassifier())])\n",
      "\n",
      "\n",
      "Train Score:0.7888332140300645\n",
      "\n",
      "Test  Score:0.6738197424892703\n",
      "\n",
      "\n",
      "Model classification report: \n",
      "              precision    recall  f1-score   support\n",
      "\n",
      "           0       0.68      0.60      0.64       222\n",
      "           1       0.67      0.74      0.70       244\n",
      "\n",
      "    accuracy                           0.67       466\n",
      "   macro avg       0.67      0.67      0.67       466\n",
      "weighted avg       0.67      0.67      0.67       466\n",
      "\n",
      "\n",
      "\n",
      "------------------------------------------------------------------------\n",
      "Model : Pipeline(steps=[('dic', DictVectorizer()), ('mod', MultinomialNB())])\n",
      "\n",
      "\n",
      "Train Score:0.9155332856120257\n",
      "\n",
      "Test  Score:0.778969957081545\n",
      "\n",
      "\n",
      "Model classification report: \n",
      "              precision    recall  f1-score   support\n",
      "\n",
      "           0       0.78      0.75      0.76       222\n",
      "           1       0.78      0.81      0.79       244\n",
      "\n",
      "    accuracy                           0.78       466\n",
      "   macro avg       0.78      0.78      0.78       466\n",
      "weighted avg       0.78      0.78      0.78       466\n",
      "\n",
      "\n",
      "\n",
      "------------------------------------------------------------------------\n",
      "\n",
      "\n",
      "\n",
      " -------------------------- Finish model part 1--------------------------\n",
      "\n",
      "\n",
      " \n",
      "Model : Pipeline(steps=[('dic', DictVectorizer()),\n",
      "                ('mod', LogisticRegression(penalty='none'))])\n",
      "\n",
      "\n",
      "Train Score:0.9935576234788833\n",
      "\n",
      "Test  Score:0.7167381974248928\n",
      "\n",
      "\n",
      "Model classification report: \n",
      "              precision    recall  f1-score   support\n",
      "\n",
      "           0       0.70      0.71      0.71       222\n",
      "           1       0.73      0.72      0.73       244\n",
      "\n",
      "    accuracy                           0.72       466\n",
      "   macro avg       0.72      0.72      0.72       466\n",
      "weighted avg       0.72      0.72      0.72       466\n",
      "\n",
      "\n",
      "\n",
      "------------------------------------------------------------------------\n",
      "Model : Pipeline(steps=[('dic', DictVectorizer()), ('mod', RandomForestClassifier())])\n",
      "\n",
      "\n",
      "Train Score:0.9985683607730852\n",
      "\n",
      "Test  Score:0.6845493562231759\n",
      "\n",
      "\n",
      "Model classification report: \n",
      "              precision    recall  f1-score   support\n",
      "\n",
      "           0       0.68      0.63      0.66       222\n",
      "           1       0.69      0.73      0.71       244\n",
      "\n",
      "    accuracy                           0.68       466\n",
      "   macro avg       0.68      0.68      0.68       466\n",
      "weighted avg       0.68      0.68      0.68       466\n",
      "\n",
      "\n",
      "\n",
      "------------------------------------------------------------------------\n",
      "Model : Pipeline(steps=[('dic', DictVectorizer()), ('mod', AdaBoostClassifier())])\n",
      "\n",
      "\n",
      "Train Score:0.80386542591267\n",
      "\n",
      "Test  Score:0.6609442060085837\n",
      "\n",
      "\n",
      "Model classification report: \n",
      "              precision    recall  f1-score   support\n",
      "\n",
      "           0       0.65      0.61      0.63       222\n",
      "           1       0.67      0.70      0.69       244\n",
      "\n",
      "    accuracy                           0.66       466\n",
      "   macro avg       0.66      0.66      0.66       466\n",
      "weighted avg       0.66      0.66      0.66       466\n",
      "\n",
      "\n",
      "\n",
      "------------------------------------------------------------------------\n",
      "Model : Pipeline(steps=[('dic', DictVectorizer()), ('mod', MultinomialNB())])\n",
      "\n",
      "\n",
      "Train Score:0.9162491052254832\n",
      "\n",
      "Test  Score:0.7811158798283262\n",
      "\n",
      "\n",
      "Model classification report: \n",
      "              precision    recall  f1-score   support\n",
      "\n",
      "           0       0.78      0.76      0.77       222\n",
      "           1       0.79      0.80      0.79       244\n",
      "\n",
      "    accuracy                           0.78       466\n",
      "   macro avg       0.78      0.78      0.78       466\n",
      "weighted avg       0.78      0.78      0.78       466\n",
      "\n",
      "\n",
      "\n",
      "------------------------------------------------------------------------\n",
      "\n",
      "\n",
      "\n",
      " -------------------------- Finish model part 2--------------------------\n",
      "\n",
      "\n",
      " \n",
      "Model : Pipeline(steps=[('dic', DictVectorizer()),\n",
      "                ('mod', LogisticRegression(penalty='none'))])\n",
      "\n",
      "\n",
      "Train Score:0.9985683607730852\n",
      "\n",
      "Test  Score:0.6995708154506438\n",
      "\n",
      "\n",
      "Model classification report: \n",
      "              precision    recall  f1-score   support\n",
      "\n",
      "           0       0.68      0.70      0.69       222\n",
      "           1       0.72      0.70      0.71       244\n",
      "\n",
      "    accuracy                           0.70       466\n",
      "   macro avg       0.70      0.70      0.70       466\n",
      "weighted avg       0.70      0.70      0.70       466\n",
      "\n",
      "\n",
      "\n",
      "------------------------------------------------------------------------\n",
      "Model : Pipeline(steps=[('dic', DictVectorizer()), ('mod', RandomForestClassifier())])\n",
      "\n",
      "\n",
      "Train Score:0.9985683607730852\n",
      "\n",
      "Test  Score:0.7060085836909872\n",
      "\n",
      "\n",
      "Model classification report: \n",
      "              precision    recall  f1-score   support\n",
      "\n",
      "           0       0.71      0.64      0.67       222\n",
      "           1       0.70      0.77      0.73       244\n",
      "\n",
      "    accuracy                           0.71       466\n",
      "   macro avg       0.71      0.70      0.70       466\n",
      "weighted avg       0.71      0.71      0.70       466\n",
      "\n",
      "\n",
      "\n",
      "------------------------------------------------------------------------\n",
      "Model : Pipeline(steps=[('dic', DictVectorizer()), ('mod', AdaBoostClassifier())])\n",
      "\n",
      "\n",
      "Train Score:0.7752326413743736\n",
      "\n",
      "Test  Score:0.6952789699570815\n",
      "\n",
      "\n",
      "Model classification report: \n",
      "              precision    recall  f1-score   support\n",
      "\n",
      "           0       0.70      0.64      0.67       222\n",
      "           1       0.69      0.75      0.72       244\n",
      "\n",
      "    accuracy                           0.70       466\n",
      "   macro avg       0.70      0.69      0.69       466\n",
      "weighted avg       0.70      0.70      0.69       466\n",
      "\n",
      "\n",
      "\n",
      "------------------------------------------------------------------------\n",
      "Model : Pipeline(steps=[('dic', DictVectorizer()), ('mod', MultinomialNB())])\n",
      "\n",
      "\n",
      "Train Score:0.9291338582677166\n",
      "\n",
      "Test  Score:0.7703862660944206\n",
      "\n",
      "\n",
      "Model classification report: \n",
      "              precision    recall  f1-score   support\n",
      "\n",
      "           0       0.76      0.77      0.76       222\n",
      "           1       0.78      0.77      0.78       244\n",
      "\n",
      "    accuracy                           0.77       466\n",
      "   macro avg       0.77      0.77      0.77       466\n",
      "weighted avg       0.77      0.77      0.77       466\n",
      "\n",
      "\n",
      "\n",
      "------------------------------------------------------------------------\n",
      "Model : Pipeline(steps=[('dic', DictVectorizer()), ('mod', BernoulliNB())])\n",
      "\n",
      "\n",
      "Train Score:0.7680744452397996\n",
      "\n",
      "Test  Score:0.6545064377682404\n",
      "\n",
      "\n",
      "Model classification report: \n",
      "              precision    recall  f1-score   support\n",
      "\n",
      "           0       0.73      0.44      0.55       222\n",
      "           1       0.62      0.85      0.72       244\n",
      "\n",
      "    accuracy                           0.65       466\n",
      "   macro avg       0.68      0.64      0.63       466\n",
      "weighted avg       0.67      0.65      0.64       466\n",
      "\n",
      "\n",
      "\n",
      "------------------------------------------------------------------------\n",
      "\n",
      "\n",
      "\n",
      " -------------------------- Finish model part 3--------------------------\n",
      "\n",
      "\n",
      " \n"
     ]
    }
   ],
   "source": [
    "acc,pre,recall,f1,tn,fp,fn,tp,name_model =  [],[],[],[],[],[],[],[],[]\n",
    "\n",
    "\n",
    "model = [LogisticRegression(penalty='none'),\n",
    "         RandomForestClassifier(),\n",
    "         AdaBoostClassifier(),\n",
    "         MultinomialNB(),\n",
    "         BernoulliNB()]\n",
    "\n",
    "\n",
    "for feature in range(1,4):\n",
    "    df['selftext_add_length'] = df['text'].apply(lambda x : featurize(x,option = feature))\n",
    "    X = df['selftext_add_length']\n",
    "    y = df['subreddit']\n",
    "\n",
    "    X_train,X_test,y_train,y_test = train_test_split(X,y,random_state=42,stratify=y)\n",
    "    \n",
    "    if feature == 3 :\n",
    "        for mod in model:\n",
    "            pipe = Pipeline([('dic',DictVectorizer(sparse=True)),('mod',mod)])\n",
    "            pipe.fit(X_train,y_train)\n",
    "            pred = pipe.predict(X_test)\n",
    "            report(X_train,X_test,y_train,y_test,pipe)\n",
    "            \n",
    "            acc.append(metrics.accuracy_score(y_test,pred))\n",
    "            pre.append(metrics.precision_score(y_test,pred))\n",
    "            recall.append(metrics.recall_score(y_test,pred))\n",
    "            f1.append(metrics.f1_score(y_test,pred))\n",
    "            tn.append(confusion_matrix(y_test,pred)[0][0])\n",
    "            fp.append(confusion_matrix(y_test,pred)[0][1])\n",
    "            fn.append(confusion_matrix(y_test,pred)[1][0])\n",
    "            tp.append(confusion_matrix(y_test,pred)[1][1])\n",
    "            name_model.append(mod)\n",
    "            \n",
    "    elif feature < 3:\n",
    "        for mod in (model[:-1]):\n",
    "            pipe = Pipeline([('dic',DictVectorizer(sparse=True)),('mod',mod)])\n",
    "            pipe.fit(X_train,y_train)\n",
    "            pred = pipe.predict(X_test)\n",
    "            report(X_train,X_test,y_train,y_test,pipe)\n",
    "            \n",
    "            \n",
    "            acc.append(metrics.accuracy_score(y_test,pred))\n",
    "            pre.append(metrics.precision_score(y_test,pred))\n",
    "            recall.append(metrics.recall_score(y_test,pred))\n",
    "            f1.append(metrics.f1_score(y_test,pred))\n",
    "            tn.append(confusion_matrix(y_test,pred)[0][0])\n",
    "            fp.append(confusion_matrix(y_test,pred)[0][1])\n",
    "            fn.append(confusion_matrix(y_test,pred)[1][0])\n",
    "            tp.append(confusion_matrix(y_test,pred)[1][1])\n",
    "            name_model.append(mod)\n",
    "    print(f'\\n\\n\\n -------------------------- Finish model part {feature}--------------------------\\n\\n\\n ')\n",
    "\n",
    "result_dict =pd.DataFrame(data = [acc,pre,recall,f1,tn,fp,fn,tp,name_model],\\\n",
    "             index = ['accuracy','precision','recall','f1_score','tn','fp','fn','tp','name_model'])\n"
   ]
  },
  {
   "cell_type": "code",
   "execution_count": 34,
   "id": "88c3f809",
   "metadata": {
    "scrolled": true
   },
   "outputs": [
    {
     "data": {
      "text/plain": [
       "Text(0.5, 1.0, '')"
      ]
     },
     "execution_count": 34,
     "metadata": {},
     "output_type": "execute_result"
    },
    {
     "data": {
      "text/plain": [
       "<Figure size 1200x800 with 0 Axes>"
      ]
     },
     "metadata": {},
     "output_type": "display_data"
    },
    {
     "data": {
      "image/png": "[encoded data removed]",
      "text/plain": [
       "<Figure size 432x288 with 1 Axes>"
      ]
     },
     "metadata": {
      "needs_background": "light"
     },
     "output_type": "display_data"
    }
   ],
   "source": [
    "# Show the confusion matrix of the best model\n",
    "plt.figure(dpi=200)\n",
    "plot_confusion_matrix(pipe,X_test,y_test,display_labels=['Venting', 'Depression'],\\\n",
    "                      colorbar=False,cmap=plt.cm.Blues)\n",
    "plt.title('')"
   ]
  },
  {
   "cell_type": "code",
   "execution_count": 35,
   "id": "d2de533f",
   "metadata": {
    "scrolled": false
   },
   "outputs": [
    {
     "data": {
      "text/html": [
       "<div>\n",
       "<style scoped>\n",
       "    .dataframe tbody tr th:only-of-type {\n",
       "        vertical-align: middle;\n",
       "    }\n",
       "\n",
       "    .dataframe tbody tr th {\n",
       "        vertical-align: top;\n",
       "    }\n",
       "\n",
       "    .dataframe thead th {\n",
       "        text-align: right;\n",
       "    }\n",
       "</style>\n",
       "<table border=\"1\" class=\"dataframe\">\n",
       "  <thead>\n",
       "    <tr style=\"text-align: right;\">\n",
       "      <th></th>\n",
       "      <th>accuracy</th>\n",
       "      <th>precision</th>\n",
       "      <th>recall</th>\n",
       "      <th>f1_score</th>\n",
       "      <th>tn</th>\n",
       "      <th>fp</th>\n",
       "      <th>fn</th>\n",
       "      <th>tp</th>\n",
       "      <th>name_model</th>\n",
       "    </tr>\n",
       "  </thead>\n",
       "  <tbody>\n",
       "    <tr>\n",
       "      <th>0</th>\n",
       "      <td>0.716738</td>\n",
       "      <td>0.733333</td>\n",
       "      <td>0.721311</td>\n",
       "      <td>0.727273</td>\n",
       "      <td>158</td>\n",
       "      <td>64</td>\n",
       "      <td>68</td>\n",
       "      <td>176</td>\n",
       "      <td>LogisticRegression(penalty='none')</td>\n",
       "    </tr>\n",
       "    <tr>\n",
       "      <th>1</th>\n",
       "      <td>0.682403</td>\n",
       "      <td>0.693548</td>\n",
       "      <td>0.704918</td>\n",
       "      <td>0.699187</td>\n",
       "      <td>146</td>\n",
       "      <td>76</td>\n",
       "      <td>72</td>\n",
       "      <td>172</td>\n",
       "      <td>(DecisionTreeClassifier(max_features='sqrt', r...</td>\n",
       "    </tr>\n",
       "    <tr>\n",
       "      <th>2</th>\n",
       "      <td>0.67382</td>\n",
       "      <td>0.67037</td>\n",
       "      <td>0.741803</td>\n",
       "      <td>0.70428</td>\n",
       "      <td>133</td>\n",
       "      <td>89</td>\n",
       "      <td>63</td>\n",
       "      <td>181</td>\n",
       "      <td>(DecisionTreeClassifier(max_depth=1, random_st...</td>\n",
       "    </tr>\n",
       "    <tr>\n",
       "      <th>3</th>\n",
       "      <td>0.77897</td>\n",
       "      <td>0.778656</td>\n",
       "      <td>0.807377</td>\n",
       "      <td>0.792757</td>\n",
       "      <td>166</td>\n",
       "      <td>56</td>\n",
       "      <td>47</td>\n",
       "      <td>197</td>\n",
       "      <td>MultinomialNB()</td>\n",
       "    </tr>\n",
       "    <tr>\n",
       "      <th>4</th>\n",
       "      <td>0.716738</td>\n",
       "      <td>0.733333</td>\n",
       "      <td>0.721311</td>\n",
       "      <td>0.727273</td>\n",
       "      <td>158</td>\n",
       "      <td>64</td>\n",
       "      <td>68</td>\n",
       "      <td>176</td>\n",
       "      <td>LogisticRegression(penalty='none')</td>\n",
       "    </tr>\n",
       "    <tr>\n",
       "      <th>5</th>\n",
       "      <td>0.684549</td>\n",
       "      <td>0.685824</td>\n",
       "      <td>0.733607</td>\n",
       "      <td>0.708911</td>\n",
       "      <td>140</td>\n",
       "      <td>82</td>\n",
       "      <td>65</td>\n",
       "      <td>179</td>\n",
       "      <td>(DecisionTreeClassifier(max_features='sqrt', r...</td>\n",
       "    </tr>\n",
       "    <tr>\n",
       "      <th>6</th>\n",
       "      <td>0.660944</td>\n",
       "      <td>0.666667</td>\n",
       "      <td>0.704918</td>\n",
       "      <td>0.685259</td>\n",
       "      <td>136</td>\n",
       "      <td>86</td>\n",
       "      <td>72</td>\n",
       "      <td>172</td>\n",
       "      <td>(DecisionTreeClassifier(max_depth=1, random_st...</td>\n",
       "    </tr>\n",
       "    <tr>\n",
       "      <th>7</th>\n",
       "      <td>0.781116</td>\n",
       "      <td>0.78629</td>\n",
       "      <td>0.79918</td>\n",
       "      <td>0.792683</td>\n",
       "      <td>169</td>\n",
       "      <td>53</td>\n",
       "      <td>49</td>\n",
       "      <td>195</td>\n",
       "      <td>MultinomialNB()</td>\n",
       "    </tr>\n",
       "    <tr>\n",
       "      <th>8</th>\n",
       "      <td>0.699571</td>\n",
       "      <td>0.718487</td>\n",
       "      <td>0.70082</td>\n",
       "      <td>0.709544</td>\n",
       "      <td>155</td>\n",
       "      <td>67</td>\n",
       "      <td>73</td>\n",
       "      <td>171</td>\n",
       "      <td>LogisticRegression(penalty='none')</td>\n",
       "    </tr>\n",
       "    <tr>\n",
       "      <th>9</th>\n",
       "      <td>0.706009</td>\n",
       "      <td>0.700375</td>\n",
       "      <td>0.766393</td>\n",
       "      <td>0.731898</td>\n",
       "      <td>142</td>\n",
       "      <td>80</td>\n",
       "      <td>57</td>\n",
       "      <td>187</td>\n",
       "      <td>(DecisionTreeClassifier(max_features='sqrt', r...</td>\n",
       "    </tr>\n",
       "    <tr>\n",
       "      <th>10</th>\n",
       "      <td>0.695279</td>\n",
       "      <td>0.693182</td>\n",
       "      <td>0.75</td>\n",
       "      <td>0.720472</td>\n",
       "      <td>141</td>\n",
       "      <td>81</td>\n",
       "      <td>61</td>\n",
       "      <td>183</td>\n",
       "      <td>(DecisionTreeClassifier(max_depth=1, random_st...</td>\n",
       "    </tr>\n",
       "    <tr>\n",
       "      <th>11</th>\n",
       "      <td>0.770386</td>\n",
       "      <td>0.784232</td>\n",
       "      <td>0.77459</td>\n",
       "      <td>0.779381</td>\n",
       "      <td>170</td>\n",
       "      <td>52</td>\n",
       "      <td>55</td>\n",
       "      <td>189</td>\n",
       "      <td>MultinomialNB()</td>\n",
       "    </tr>\n",
       "    <tr>\n",
       "      <th>12</th>\n",
       "      <td>0.654506</td>\n",
       "      <td>0.624625</td>\n",
       "      <td>0.852459</td>\n",
       "      <td>0.720971</td>\n",
       "      <td>97</td>\n",
       "      <td>125</td>\n",
       "      <td>36</td>\n",
       "      <td>208</td>\n",
       "      <td>BernoulliNB()</td>\n",
       "    </tr>\n",
       "  </tbody>\n",
       "</table>\n",
       "</div>"
      ],
      "text/plain": [
       "    accuracy precision    recall  f1_score   tn   fp  fn   tp  \\\n",
       "0   0.716738  0.733333  0.721311  0.727273  158   64  68  176   \n",
       "1   0.682403  0.693548  0.704918  0.699187  146   76  72  172   \n",
       "2    0.67382   0.67037  0.741803   0.70428  133   89  63  181   \n",
       "3    0.77897  0.778656  0.807377  0.792757  166   56  47  197   \n",
       "4   0.716738  0.733333  0.721311  0.727273  158   64  68  176   \n",
       "5   0.684549  0.685824  0.733607  0.708911  140   82  65  179   \n",
       "6   0.660944  0.666667  0.704918  0.685259  136   86  72  172   \n",
       "7   0.781116   0.78629   0.79918  0.792683  169   53  49  195   \n",
       "8   0.699571  0.718487   0.70082  0.709544  155   67  73  171   \n",
       "9   0.706009  0.700375  0.766393  0.731898  142   80  57  187   \n",
       "10  0.695279  0.693182      0.75  0.720472  141   81  61  183   \n",
       "11  0.770386  0.784232   0.77459  0.779381  170   52  55  189   \n",
       "12  0.654506  0.624625  0.852459  0.720971   97  125  36  208   \n",
       "\n",
       "                                           name_model  \n",
       "0                  LogisticRegression(penalty='none')  \n",
       "1   (DecisionTreeClassifier(max_features='sqrt', r...  \n",
       "2   (DecisionTreeClassifier(max_depth=1, random_st...  \n",
       "3                                     MultinomialNB()  \n",
       "4                  LogisticRegression(penalty='none')  \n",
       "5   (DecisionTreeClassifier(max_features='sqrt', r...  \n",
       "6   (DecisionTreeClassifier(max_depth=1, random_st...  \n",
       "7                                     MultinomialNB()  \n",
       "8                  LogisticRegression(penalty='none')  \n",
       "9   (DecisionTreeClassifier(max_features='sqrt', r...  \n",
       "10  (DecisionTreeClassifier(max_depth=1, random_st...  \n",
       "11                                    MultinomialNB()  \n",
       "12                                      BernoulliNB()  "
      ]
     },
     "execution_count": 35,
     "metadata": {},
     "output_type": "execute_result"
    }
   ],
   "source": [
    "result_dict.T"
   ]
  },
  {
   "cell_type": "code",
   "execution_count": 36,
   "id": "19e81ee6",
   "metadata": {},
   "outputs": [
    {
     "data": {
      "text/plain": [
       "0.8524590163934426"
      ]
     },
     "execution_count": 36,
     "metadata": {},
     "output_type": "execute_result"
    }
   ],
   "source": [
    "result_dict.T['recall'].max()"
   ]
  },
  {
   "cell_type": "code",
   "execution_count": 37,
   "id": "61909da4",
   "metadata": {},
   "outputs": [],
   "source": [
    "all_result = pd.concat([result_cvec.T,result_tf.T,result_dict.T],axis=0)"
   ]
  },
  {
   "cell_type": "code",
   "execution_count": 38,
   "id": "c6bcbe3b",
   "metadata": {
    "scrolled": false
   },
   "outputs": [
    {
     "data": {
      "text/html": [
       "<div>\n",
       "<style scoped>\n",
       "    .dataframe tbody tr th:only-of-type {\n",
       "        vertical-align: middle;\n",
       "    }\n",
       "\n",
       "    .dataframe tbody tr th {\n",
       "        vertical-align: top;\n",
       "    }\n",
       "\n",
       "    .dataframe thead th {\n",
       "        text-align: right;\n",
       "    }\n",
       "</style>\n",
       "<table border=\"1\" class=\"dataframe\">\n",
       "  <thead>\n",
       "    <tr style=\"text-align: right;\">\n",
       "      <th></th>\n",
       "      <th>index</th>\n",
       "      <th>accuracy</th>\n",
       "      <th>precision</th>\n",
       "      <th>recall</th>\n",
       "      <th>f1_score</th>\n",
       "      <th>tn</th>\n",
       "      <th>fp</th>\n",
       "      <th>fn</th>\n",
       "      <th>tp</th>\n",
       "      <th>name_model</th>\n",
       "    </tr>\n",
       "  </thead>\n",
       "  <tbody>\n",
       "    <tr>\n",
       "      <th>0</th>\n",
       "      <td>0</td>\n",
       "      <td>0.688841</td>\n",
       "      <td>0.692607</td>\n",
       "      <td>0.729508</td>\n",
       "      <td>0.710579</td>\n",
       "      <td>143</td>\n",
       "      <td>79</td>\n",
       "      <td>66</td>\n",
       "      <td>178</td>\n",
       "      <td>LogisticRegression(penalty='none')</td>\n",
       "    </tr>\n",
       "    <tr>\n",
       "      <th>1</th>\n",
       "      <td>1</td>\n",
       "      <td>0.695279</td>\n",
       "      <td>0.717949</td>\n",
       "      <td>0.688525</td>\n",
       "      <td>0.702929</td>\n",
       "      <td>156</td>\n",
       "      <td>66</td>\n",
       "      <td>76</td>\n",
       "      <td>168</td>\n",
       "      <td>RandomForestClassifier()</td>\n",
       "    </tr>\n",
       "    <tr>\n",
       "      <th>2</th>\n",
       "      <td>2</td>\n",
       "      <td>0.671674</td>\n",
       "      <td>0.673004</td>\n",
       "      <td>0.72541</td>\n",
       "      <td>0.698225</td>\n",
       "      <td>136</td>\n",
       "      <td>86</td>\n",
       "      <td>67</td>\n",
       "      <td>177</td>\n",
       "      <td>AdaBoostClassifier()</td>\n",
       "    </tr>\n",
       "    <tr>\n",
       "      <th>3</th>\n",
       "      <td>3</td>\n",
       "      <td>0.766094</td>\n",
       "      <td>0.747253</td>\n",
       "      <td>0.836066</td>\n",
       "      <td>0.789168</td>\n",
       "      <td>153</td>\n",
       "      <td>69</td>\n",
       "      <td>40</td>\n",
       "      <td>204</td>\n",
       "      <td>MultinomialNB()</td>\n",
       "    </tr>\n",
       "    <tr>\n",
       "      <th>4</th>\n",
       "      <td>0</td>\n",
       "      <td>0.682403</td>\n",
       "      <td>0.706897</td>\n",
       "      <td>0.672131</td>\n",
       "      <td>0.689076</td>\n",
       "      <td>154</td>\n",
       "      <td>68</td>\n",
       "      <td>80</td>\n",
       "      <td>164</td>\n",
       "      <td>LogisticRegression(penalty='none')</td>\n",
       "    </tr>\n",
       "    <tr>\n",
       "      <th>5</th>\n",
       "      <td>1</td>\n",
       "      <td>0.712446</td>\n",
       "      <td>0.714844</td>\n",
       "      <td>0.75</td>\n",
       "      <td>0.732</td>\n",
       "      <td>149</td>\n",
       "      <td>73</td>\n",
       "      <td>61</td>\n",
       "      <td>183</td>\n",
       "      <td>RandomForestClassifier()</td>\n",
       "    </tr>\n",
       "    <tr>\n",
       "      <th>6</th>\n",
       "      <td>2</td>\n",
       "      <td>0.665236</td>\n",
       "      <td>0.677419</td>\n",
       "      <td>0.688525</td>\n",
       "      <td>0.682927</td>\n",
       "      <td>142</td>\n",
       "      <td>80</td>\n",
       "      <td>76</td>\n",
       "      <td>168</td>\n",
       "      <td>AdaBoostClassifier()</td>\n",
       "    </tr>\n",
       "    <tr>\n",
       "      <th>7</th>\n",
       "      <td>3</td>\n",
       "      <td>0.781116</td>\n",
       "      <td>0.757246</td>\n",
       "      <td>0.856557</td>\n",
       "      <td>0.803846</td>\n",
       "      <td>155</td>\n",
       "      <td>67</td>\n",
       "      <td>35</td>\n",
       "      <td>209</td>\n",
       "      <td>MultinomialNB()</td>\n",
       "    </tr>\n",
       "    <tr>\n",
       "      <th>8</th>\n",
       "      <td>0</td>\n",
       "      <td>0.716738</td>\n",
       "      <td>0.733333</td>\n",
       "      <td>0.721311</td>\n",
       "      <td>0.727273</td>\n",
       "      <td>158</td>\n",
       "      <td>64</td>\n",
       "      <td>68</td>\n",
       "      <td>176</td>\n",
       "      <td>LogisticRegression(penalty='none')</td>\n",
       "    </tr>\n",
       "    <tr>\n",
       "      <th>9</th>\n",
       "      <td>1</td>\n",
       "      <td>0.682403</td>\n",
       "      <td>0.693548</td>\n",
       "      <td>0.704918</td>\n",
       "      <td>0.699187</td>\n",
       "      <td>146</td>\n",
       "      <td>76</td>\n",
       "      <td>72</td>\n",
       "      <td>172</td>\n",
       "      <td>(DecisionTreeClassifier(max_features='sqrt', r...</td>\n",
       "    </tr>\n",
       "    <tr>\n",
       "      <th>10</th>\n",
       "      <td>2</td>\n",
       "      <td>0.67382</td>\n",
       "      <td>0.67037</td>\n",
       "      <td>0.741803</td>\n",
       "      <td>0.70428</td>\n",
       "      <td>133</td>\n",
       "      <td>89</td>\n",
       "      <td>63</td>\n",
       "      <td>181</td>\n",
       "      <td>(DecisionTreeClassifier(max_depth=1, random_st...</td>\n",
       "    </tr>\n",
       "    <tr>\n",
       "      <th>11</th>\n",
       "      <td>3</td>\n",
       "      <td>0.77897</td>\n",
       "      <td>0.778656</td>\n",
       "      <td>0.807377</td>\n",
       "      <td>0.792757</td>\n",
       "      <td>166</td>\n",
       "      <td>56</td>\n",
       "      <td>47</td>\n",
       "      <td>197</td>\n",
       "      <td>MultinomialNB()</td>\n",
       "    </tr>\n",
       "    <tr>\n",
       "      <th>12</th>\n",
       "      <td>4</td>\n",
       "      <td>0.716738</td>\n",
       "      <td>0.733333</td>\n",
       "      <td>0.721311</td>\n",
       "      <td>0.727273</td>\n",
       "      <td>158</td>\n",
       "      <td>64</td>\n",
       "      <td>68</td>\n",
       "      <td>176</td>\n",
       "      <td>LogisticRegression(penalty='none')</td>\n",
       "    </tr>\n",
       "    <tr>\n",
       "      <th>13</th>\n",
       "      <td>5</td>\n",
       "      <td>0.684549</td>\n",
       "      <td>0.685824</td>\n",
       "      <td>0.733607</td>\n",
       "      <td>0.708911</td>\n",
       "      <td>140</td>\n",
       "      <td>82</td>\n",
       "      <td>65</td>\n",
       "      <td>179</td>\n",
       "      <td>(DecisionTreeClassifier(max_features='sqrt', r...</td>\n",
       "    </tr>\n",
       "    <tr>\n",
       "      <th>14</th>\n",
       "      <td>6</td>\n",
       "      <td>0.660944</td>\n",
       "      <td>0.666667</td>\n",
       "      <td>0.704918</td>\n",
       "      <td>0.685259</td>\n",
       "      <td>136</td>\n",
       "      <td>86</td>\n",
       "      <td>72</td>\n",
       "      <td>172</td>\n",
       "      <td>(DecisionTreeClassifier(max_depth=1, random_st...</td>\n",
       "    </tr>\n",
       "    <tr>\n",
       "      <th>15</th>\n",
       "      <td>7</td>\n",
       "      <td>0.781116</td>\n",
       "      <td>0.78629</td>\n",
       "      <td>0.79918</td>\n",
       "      <td>0.792683</td>\n",
       "      <td>169</td>\n",
       "      <td>53</td>\n",
       "      <td>49</td>\n",
       "      <td>195</td>\n",
       "      <td>MultinomialNB()</td>\n",
       "    </tr>\n",
       "    <tr>\n",
       "      <th>16</th>\n",
       "      <td>8</td>\n",
       "      <td>0.699571</td>\n",
       "      <td>0.718487</td>\n",
       "      <td>0.70082</td>\n",
       "      <td>0.709544</td>\n",
       "      <td>155</td>\n",
       "      <td>67</td>\n",
       "      <td>73</td>\n",
       "      <td>171</td>\n",
       "      <td>LogisticRegression(penalty='none')</td>\n",
       "    </tr>\n",
       "    <tr>\n",
       "      <th>17</th>\n",
       "      <td>9</td>\n",
       "      <td>0.706009</td>\n",
       "      <td>0.700375</td>\n",
       "      <td>0.766393</td>\n",
       "      <td>0.731898</td>\n",
       "      <td>142</td>\n",
       "      <td>80</td>\n",
       "      <td>57</td>\n",
       "      <td>187</td>\n",
       "      <td>(DecisionTreeClassifier(max_features='sqrt', r...</td>\n",
       "    </tr>\n",
       "    <tr>\n",
       "      <th>18</th>\n",
       "      <td>10</td>\n",
       "      <td>0.695279</td>\n",
       "      <td>0.693182</td>\n",
       "      <td>0.75</td>\n",
       "      <td>0.720472</td>\n",
       "      <td>141</td>\n",
       "      <td>81</td>\n",
       "      <td>61</td>\n",
       "      <td>183</td>\n",
       "      <td>(DecisionTreeClassifier(max_depth=1, random_st...</td>\n",
       "    </tr>\n",
       "    <tr>\n",
       "      <th>19</th>\n",
       "      <td>11</td>\n",
       "      <td>0.770386</td>\n",
       "      <td>0.784232</td>\n",
       "      <td>0.77459</td>\n",
       "      <td>0.779381</td>\n",
       "      <td>170</td>\n",
       "      <td>52</td>\n",
       "      <td>55</td>\n",
       "      <td>189</td>\n",
       "      <td>MultinomialNB()</td>\n",
       "    </tr>\n",
       "    <tr>\n",
       "      <th>20</th>\n",
       "      <td>12</td>\n",
       "      <td>0.654506</td>\n",
       "      <td>0.624625</td>\n",
       "      <td>0.852459</td>\n",
       "      <td>0.720971</td>\n",
       "      <td>97</td>\n",
       "      <td>125</td>\n",
       "      <td>36</td>\n",
       "      <td>208</td>\n",
       "      <td>BernoulliNB()</td>\n",
       "    </tr>\n",
       "  </tbody>\n",
       "</table>\n",
       "</div>"
      ],
      "text/plain": [
       "    index  accuracy precision    recall  f1_score   tn   fp  fn   tp  \\\n",
       "0       0  0.688841  0.692607  0.729508  0.710579  143   79  66  178   \n",
       "1       1  0.695279  0.717949  0.688525  0.702929  156   66  76  168   \n",
       "2       2  0.671674  0.673004   0.72541  0.698225  136   86  67  177   \n",
       "3       3  0.766094  0.747253  0.836066  0.789168  153   69  40  204   \n",
       "4       0  0.682403  0.706897  0.672131  0.689076  154   68  80  164   \n",
       "5       1  0.712446  0.714844      0.75     0.732  149   73  61  183   \n",
       "6       2  0.665236  0.677419  0.688525  0.682927  142   80  76  168   \n",
       "7       3  0.781116  0.757246  0.856557  0.803846  155   67  35  209   \n",
       "8       0  0.716738  0.733333  0.721311  0.727273  158   64  68  176   \n",
       "9       1  0.682403  0.693548  0.704918  0.699187  146   76  72  172   \n",
       "10      2   0.67382   0.67037  0.741803   0.70428  133   89  63  181   \n",
       "11      3   0.77897  0.778656  0.807377  0.792757  166   56  47  197   \n",
       "12      4  0.716738  0.733333  0.721311  0.727273  158   64  68  176   \n",
       "13      5  0.684549  0.685824  0.733607  0.708911  140   82  65  179   \n",
       "14      6  0.660944  0.666667  0.704918  0.685259  136   86  72  172   \n",
       "15      7  0.781116   0.78629   0.79918  0.792683  169   53  49  195   \n",
       "16      8  0.699571  0.718487   0.70082  0.709544  155   67  73  171   \n",
       "17      9  0.706009  0.700375  0.766393  0.731898  142   80  57  187   \n",
       "18     10  0.695279  0.693182      0.75  0.720472  141   81  61  183   \n",
       "19     11  0.770386  0.784232   0.77459  0.779381  170   52  55  189   \n",
       "20     12  0.654506  0.624625  0.852459  0.720971   97  125  36  208   \n",
       "\n",
       "                                           name_model  \n",
       "0                  LogisticRegression(penalty='none')  \n",
       "1                            RandomForestClassifier()  \n",
       "2                                AdaBoostClassifier()  \n",
       "3                                     MultinomialNB()  \n",
       "4                  LogisticRegression(penalty='none')  \n",
       "5                            RandomForestClassifier()  \n",
       "6                                AdaBoostClassifier()  \n",
       "7                                     MultinomialNB()  \n",
       "8                  LogisticRegression(penalty='none')  \n",
       "9   (DecisionTreeClassifier(max_features='sqrt', r...  \n",
       "10  (DecisionTreeClassifier(max_depth=1, random_st...  \n",
       "11                                    MultinomialNB()  \n",
       "12                 LogisticRegression(penalty='none')  \n",
       "13  (DecisionTreeClassifier(max_features='sqrt', r...  \n",
       "14  (DecisionTreeClassifier(max_depth=1, random_st...  \n",
       "15                                    MultinomialNB()  \n",
       "16                 LogisticRegression(penalty='none')  \n",
       "17  (DecisionTreeClassifier(max_features='sqrt', r...  \n",
       "18  (DecisionTreeClassifier(max_depth=1, random_st...  \n",
       "19                                    MultinomialNB()  \n",
       "20                                      BernoulliNB()  "
      ]
     },
     "execution_count": 38,
     "metadata": {},
     "output_type": "execute_result"
    }
   ],
   "source": [
    "all_result.reset_index()\n",
    "# Show Cvec (0-3) , TFID (4-7) , Dict op.1 (8-11), \n",
    "# Dict op.2 (12-15), Dict op.3 (16-20)"
   ]
  },
  {
   "cell_type": "code",
   "execution_count": 39,
   "id": "6f8bf6ac",
   "metadata": {},
   "outputs": [
    {
     "data": {
      "text/html": [
       "<div>\n",
       "<style scoped>\n",
       "    .dataframe tbody tr th:only-of-type {\n",
       "        vertical-align: middle;\n",
       "    }\n",
       "\n",
       "    .dataframe tbody tr th {\n",
       "        vertical-align: top;\n",
       "    }\n",
       "\n",
       "    .dataframe thead th {\n",
       "        text-align: right;\n",
       "    }\n",
       "</style>\n",
       "<table border=\"1\" class=\"dataframe\">\n",
       "  <thead>\n",
       "    <tr style=\"text-align: right;\">\n",
       "      <th></th>\n",
       "      <th>index</th>\n",
       "      <th>accuracy</th>\n",
       "      <th>precision</th>\n",
       "      <th>recall</th>\n",
       "      <th>f1_score</th>\n",
       "      <th>tn</th>\n",
       "      <th>fp</th>\n",
       "      <th>fn</th>\n",
       "      <th>tp</th>\n",
       "      <th>name_model</th>\n",
       "    </tr>\n",
       "  </thead>\n",
       "  <tbody>\n",
       "    <tr>\n",
       "      <th>7</th>\n",
       "      <td>3</td>\n",
       "      <td>0.781116</td>\n",
       "      <td>0.757246</td>\n",
       "      <td>0.856557</td>\n",
       "      <td>0.803846</td>\n",
       "      <td>155</td>\n",
       "      <td>67</td>\n",
       "      <td>35</td>\n",
       "      <td>209</td>\n",
       "      <td>MultinomialNB()</td>\n",
       "    </tr>\n",
       "    <tr>\n",
       "      <th>20</th>\n",
       "      <td>12</td>\n",
       "      <td>0.654506</td>\n",
       "      <td>0.624625</td>\n",
       "      <td>0.852459</td>\n",
       "      <td>0.720971</td>\n",
       "      <td>97</td>\n",
       "      <td>125</td>\n",
       "      <td>36</td>\n",
       "      <td>208</td>\n",
       "      <td>BernoulliNB()</td>\n",
       "    </tr>\n",
       "    <tr>\n",
       "      <th>3</th>\n",
       "      <td>3</td>\n",
       "      <td>0.766094</td>\n",
       "      <td>0.747253</td>\n",
       "      <td>0.836066</td>\n",
       "      <td>0.789168</td>\n",
       "      <td>153</td>\n",
       "      <td>69</td>\n",
       "      <td>40</td>\n",
       "      <td>204</td>\n",
       "      <td>MultinomialNB()</td>\n",
       "    </tr>\n",
       "    <tr>\n",
       "      <th>11</th>\n",
       "      <td>3</td>\n",
       "      <td>0.77897</td>\n",
       "      <td>0.778656</td>\n",
       "      <td>0.807377</td>\n",
       "      <td>0.792757</td>\n",
       "      <td>166</td>\n",
       "      <td>56</td>\n",
       "      <td>47</td>\n",
       "      <td>197</td>\n",
       "      <td>MultinomialNB()</td>\n",
       "    </tr>\n",
       "    <tr>\n",
       "      <th>15</th>\n",
       "      <td>7</td>\n",
       "      <td>0.781116</td>\n",
       "      <td>0.78629</td>\n",
       "      <td>0.79918</td>\n",
       "      <td>0.792683</td>\n",
       "      <td>169</td>\n",
       "      <td>53</td>\n",
       "      <td>49</td>\n",
       "      <td>195</td>\n",
       "      <td>MultinomialNB()</td>\n",
       "    </tr>\n",
       "  </tbody>\n",
       "</table>\n",
       "</div>"
      ],
      "text/plain": [
       "    index  accuracy precision    recall  f1_score   tn   fp  fn   tp  \\\n",
       "7       3  0.781116  0.757246  0.856557  0.803846  155   67  35  209   \n",
       "20     12  0.654506  0.624625  0.852459  0.720971   97  125  36  208   \n",
       "3       3  0.766094  0.747253  0.836066  0.789168  153   69  40  204   \n",
       "11      3   0.77897  0.778656  0.807377  0.792757  166   56  47  197   \n",
       "15      7  0.781116   0.78629   0.79918  0.792683  169   53  49  195   \n",
       "\n",
       "         name_model  \n",
       "7   MultinomialNB()  \n",
       "20    BernoulliNB()  \n",
       "3   MultinomialNB()  \n",
       "11  MultinomialNB()  \n",
       "15  MultinomialNB()  "
      ]
     },
     "execution_count": 39,
     "metadata": {},
     "output_type": "execute_result"
    }
   ],
   "source": [
    "all_result.reset_index().sort_values(by='recall',ascending=False)[:5]"
   ]
  },
  {
   "cell_type": "markdown",
   "id": "6f87d428",
   "metadata": {},
   "source": [
    "- From the comparison of using 3 Vectorizer : Countvectorize, TFIDFvectorize, Dictvectorize, we have knowed that\n",
    "\n",
    "**Top 5 models are using Multinomial nb, Bernoulli nb. Which are :** \n",
    "1. Tfidf with Multi\n",
    "2. Dict op.3 with Bernoulli\n",
    "3. Cvec with Multi\n",
    "4. Dict op.1 with Multi\n",
    "5. Dict op.2 with Multi"
   ]
  },
  {
   "cell_type": "markdown",
   "id": "64458c39",
   "metadata": {},
   "source": [
    "--- "
   ]
  },
  {
   "cell_type": "markdown",
   "id": "400cef5a",
   "metadata": {},
   "source": [
    "# Stemmatization / Lemmatization Testing"
   ]
  },
  {
   "cell_type": "markdown",
   "id": "f3ec2398",
   "metadata": {},
   "source": [
    "- FYI : The function called in this section are not yet formatted into the main function up above, so it might be messy and hard to read.  For the informative and cleaness results. Please skip this part and see the result from visualization at the end"
   ]
  },
  {
   "cell_type": "markdown",
   "id": "83c73e3a",
   "metadata": {},
   "source": [
    "## Stem + TFIDF + Multinomialnb"
   ]
  },
  {
   "cell_type": "code",
   "execution_count": 40,
   "id": "98e9f7cd",
   "metadata": {},
   "outputs": [],
   "source": [
    "X = df['text']\n",
    "y = df['subreddit']\n",
    "X_train,X_test,y_train,y_test = train_test_split(X,y,\n",
    "                                                 random_state=42,\n",
    "                                                 stratify=y)\n",
    "\n",
    "# add stemming to tokenizer\n",
    "s__multi = Pipeline([('dic',TfidfVectorizer(tokenizer=StemTokenize())),('nb',MultinomialNB())])\n",
    "s__multi.fit(X_train,y_train)\n",
    "pred = s__multi.predict(X_test)\n"
   ]
  },
  {
   "cell_type": "code",
   "execution_count": 41,
   "id": "b1904afb",
   "metadata": {},
   "outputs": [
    {
     "name": "stdout",
     "output_type": "stream",
     "text": [
      "0.8647540983606558\n"
     ]
    }
   ],
   "source": [
    "print(metrics.recall_score(y_test,pred))"
   ]
  },
  {
   "cell_type": "code",
   "execution_count": 42,
   "id": "6a7fd883",
   "metadata": {
    "scrolled": true
   },
   "outputs": [
    {
     "name": "stdout",
     "output_type": "stream",
     "text": [
      "Model : Pipeline(steps=[('dic',\n",
      "                 TfidfVectorizer(tokenizer=<__main__.StemTokenize object at 0x0000019177A79D00>)),\n",
      "                ('nb', MultinomialNB())])\n",
      "\n",
      "\n",
      "Train Score:0.8675733715103794\n",
      "\n",
      "Test  Score:0.7703862660944206\n",
      "\n",
      "\n",
      "Model classification report: \n",
      "              precision    recall  f1-score   support\n",
      "\n",
      "           0       0.82      0.67      0.73       222\n",
      "           1       0.74      0.86      0.80       244\n",
      "\n",
      "    accuracy                           0.77       466\n",
      "   macro avg       0.78      0.77      0.77       466\n",
      "weighted avg       0.78      0.77      0.77       466\n",
      "\n",
      "\n",
      "\n",
      "------------------------------------------------------------------------\n"
     ]
    },
    {
     "data": {
      "text/plain": [
       "<sklearn.metrics._plot.confusion_matrix.ConfusionMatrixDisplay at 0x191783274c0>"
      ]
     },
     "execution_count": 42,
     "metadata": {},
     "output_type": "execute_result"
    },
    {
     "data": {
      "image/png": "[encoded data removed]",
      "text/plain": [
       "<Figure size 432x288 with 1 Axes>"
      ]
     },
     "metadata": {
      "needs_background": "light"
     },
     "output_type": "display_data"
    }
   ],
   "source": [
    "report(X_train,X_test,y_train,y_test,s__multi)\n",
    "plot_confusion_matrix(s__multi,X_test,y_test,display_labels=['Venting', 'Depression'],colorbar=False,cmap=plt.cm.Blues)"
   ]
  },
  {
   "cell_type": "markdown",
   "id": "cf179ad9",
   "metadata": {},
   "source": [
    "## Lemma + TFIDF + Multinomialnb"
   ]
  },
  {
   "cell_type": "code",
   "execution_count": 43,
   "id": "0668e1d0",
   "metadata": {},
   "outputs": [],
   "source": [
    "X = df['text']\n",
    "y = df['subreddit']\n",
    "X_train,X_test,y_train,y_test = train_test_split(X,y,\n",
    "                                                 random_state=42,\n",
    "                                                 stratify=y)\n",
    "\n",
    "# add lemmatization to tokenizer\n",
    "l__multi = Pipeline([('dic',TfidfVectorizer(tokenizer=LemmaTokenizer())),('bnb',MultinomialNB())])\n",
    "l__multi.fit(X_train,y_train)\n",
    "pred = l__multi.predict(X_test)"
   ]
  },
  {
   "cell_type": "code",
   "execution_count": 44,
   "id": "29970343",
   "metadata": {},
   "outputs": [
    {
     "name": "stdout",
     "output_type": "stream",
     "text": [
      "0.8483606557377049\n"
     ]
    }
   ],
   "source": [
    "print(metrics.recall_score(y_test,pred))"
   ]
  },
  {
   "cell_type": "code",
   "execution_count": 45,
   "id": "0d0d0aa7",
   "metadata": {
    "scrolled": true
   },
   "outputs": [
    {
     "name": "stdout",
     "output_type": "stream",
     "text": [
      "Model : Pipeline(steps=[('dic',\n",
      "                 TfidfVectorizer(tokenizer=<__main__.LemmaTokenizer object at 0x00000191010E2EB0>)),\n",
      "                ('bnb', MultinomialNB())])\n",
      "\n",
      "\n",
      "Train Score:0.8754473872584109\n",
      "\n",
      "Test  Score:0.7703862660944206\n",
      "\n",
      "\n",
      "Model classification report: \n",
      "              precision    recall  f1-score   support\n",
      "\n",
      "           0       0.80      0.68      0.74       222\n",
      "           1       0.75      0.85      0.79       244\n",
      "\n",
      "    accuracy                           0.77       466\n",
      "   macro avg       0.78      0.77      0.77       466\n",
      "weighted avg       0.77      0.77      0.77       466\n",
      "\n",
      "\n",
      "\n",
      "------------------------------------------------------------------------\n"
     ]
    },
    {
     "data": {
      "text/plain": [
       "<sklearn.metrics._plot.confusion_matrix.ConfusionMatrixDisplay at 0x1917813aa60>"
      ]
     },
     "execution_count": 45,
     "metadata": {},
     "output_type": "execute_result"
    },
    {
     "data": {
      "image/png": "[encoded data removed]",
      "text/plain": [
       "<Figure size 432x288 with 1 Axes>"
      ]
     },
     "metadata": {
      "needs_background": "light"
     },
     "output_type": "display_data"
    }
   ],
   "source": [
    "report(X_train,X_test,y_train,y_test,l__multi)\n",
    "plot_confusion_matrix(l__multi,X_test,y_test,display_labels=['Venting', 'Depression'],colorbar=False,cmap=plt.cm.Blues)"
   ]
  },
  {
   "cell_type": "markdown",
   "id": "1f06045b",
   "metadata": {},
   "source": [
    "---"
   ]
  },
  {
   "cell_type": "markdown",
   "id": "62b435c6",
   "metadata": {},
   "source": [
    "#### This section show the visualization of comparison of best model from each section.\n",
    "#### (Dataframe not include the stemming / lemmatization results.)"
   ]
  },
  {
   "cell_type": "code",
   "execution_count": 46,
   "id": "937dd522",
   "metadata": {},
   "outputs": [],
   "source": [
    "# keep top 5 recall value + baseline model \n",
    "val = all_result.sort_values(by='recall',ascending=False)['recall'][:5].tolist()\n",
    "val.extend([0.76])"
   ]
  },
  {
   "cell_type": "markdown",
   "id": "94f9332d",
   "metadata": {},
   "source": [
    "#### Recall score imporvement - from section vectorizer"
   ]
  },
  {
   "cell_type": "code",
   "execution_count": 47,
   "id": "130e0e9b",
   "metadata": {
    "scrolled": true
   },
   "outputs": [
    {
     "data": {
      "image/png": "[encoded data removed]",
      "text/plain": [
       "<Figure size 3000x2400 with 1 Axes>"
      ]
     },
     "metadata": {
      "needs_background": "light"
     },
     "output_type": "display_data"
    }
   ],
   "source": [
    "plt.figure(figsize=(10,8),dpi=300)\n",
    "plt.barh(width= val[::-1],\\\n",
    "         y= ['TFIDF + Multi','Dict(3) + Bernoulli','Cvec + Multi',\\\n",
    "             'Dict(1) + Multi','Dict(2) + Multi','Basemodel'][::-1],\n",
    "        color= ['navy','navy','navy','mediumblue','blue','royalblue'][::-1])\n",
    "\n",
    "\n",
    "# baseline score\n",
    "plt.axvline(0.76,color='white',alpha=0.5,linestyle = '--')\n",
    "# Top recall score\n",
    "plt.axvline(0.857,color='r',alpha=0.5,linestyle='--')\n",
    "plt.xlim(0.7,1)\n",
    "plt.title('Comparison of recall score between model in 1st step',size = 18)\n",
    "plt.xticks(fontsize=15)\n",
    "plt.xlabel('recall score',fontsize= 15)\n",
    "plt.yticks(fontsize = 15)\n",
    "plt.tight_layout()"
   ]
  },
  {
   "cell_type": "markdown",
   "id": "0a0157cc",
   "metadata": {},
   "source": [
    "#### The accuracy - from section vectorizer"
   ]
  },
  {
   "cell_type": "code",
   "execution_count": 48,
   "id": "1c193dc0",
   "metadata": {},
   "outputs": [],
   "source": [
    "# keep top 5 accuracy value + baseline model + baseline score for plot \n",
    "\n",
    "val_acc = all_result.sort_values(by='accuracy',ascending=False)['accuracy'][:5].tolist()\n",
    "val_acc.extend([0.72,0.5])"
   ]
  },
  {
   "cell_type": "code",
   "execution_count": 49,
   "id": "d40e3a34",
   "metadata": {
    "scrolled": true
   },
   "outputs": [
    {
     "data": {
      "image/png": "[encoded data removed]",
      "text/plain": [
       "<Figure size 3000x2400 with 1 Axes>"
      ]
     },
     "metadata": {
      "needs_background": "light"
     },
     "output_type": "display_data"
    }
   ],
   "source": [
    "plt.figure(figsize=(10,8),dpi=300)\n",
    "plt.barh(width= val_acc[::-1],\\\n",
    "         y= ['Dict(2) + Multi','Dict(3) + Multi','Dict(1) + Multi',\n",
    "             'TFIDF + Multi','CVEC + Multi','Basemodel','Baseline score'][::-1],\n",
    "        color= ['navy','navy','navy','mediumblue','blue','royalblue','cornflowerblue'][::-1])\n",
    "\n",
    "\n",
    "# baseline score\n",
    "plt.axvline(0.5,color='white',alpha=0.5,linestyle = '--')\n",
    "# Top recall score\n",
    "plt.axvline(0.781,color='r',alpha=0.5,linestyle='--')\n",
    "plt.xlim(0.45,0.8)\n",
    "plt.title('Comparison of testing accuracy between model in 1st step',size = 18)\n",
    "plt.xticks(fontsize=15)\n",
    "plt.xlabel('testing accuracy',fontsize= 15)\n",
    "plt.yticks(fontsize = 15)\n",
    "plt.tight_layout()"
   ]
  },
  {
   "cell_type": "markdown",
   "id": "6b5bf361",
   "metadata": {},
   "source": [
    "- Top 5 accuracy order is different from recall score, since there are an overfitting occur, even the predicted correctof the venting person tend to increase but we're focusing the to reduce the number of false negative as much as we can . So, we give up accuracy at this point."
   ]
  },
  {
   "cell_type": "markdown",
   "id": "ec6b7eb0",
   "metadata": {},
   "source": [
    "#### Recall score on preprocessor section"
   ]
  },
  {
   "cell_type": "code",
   "execution_count": 50,
   "id": "4e64393a",
   "metadata": {},
   "outputs": [],
   "source": [
    "Recall_score = [0.8525,0.8483606557377049,0.8647540983606558]\n",
    "Preprocess =  ['normal','+lemma','+stem']"
   ]
  },
  {
   "cell_type": "code",
   "execution_count": 51,
   "id": "c8680b64",
   "metadata": {
    "scrolled": true
   },
   "outputs": [
    {
     "data": {
      "image/png": "[encoded data removed]",
      "text/plain": [
       "<Figure size 3000x2400 with 1 Axes>"
      ]
     },
     "metadata": {
      "needs_background": "light"
     },
     "output_type": "display_data"
    }
   ],
   "source": [
    "plt.figure(figsize=(10,8),dpi=300)\n",
    "sns.barplot(x=Preprocess,y=Recall_score,palette='Blues',saturation=1)\n",
    "\n",
    "plt.axhline(0.865,linestyle= '--' ,color = 'r', alpha= 0.5)\n",
    "plt.ylim(0.78,0.9)\n",
    "plt.title('Comparison of recall score between model in 2nd step',size= 15)\n",
    "plt.xticks(fontsize=14)\n",
    "plt.xlabel('Preprocess',fontsize = 14)\n",
    "plt.yticks(fontsize = 14)\n",
    "plt.ylabel('Recall score',fontsize = 14);"
   ]
  },
  {
   "cell_type": "markdown",
   "id": "2aeb9496",
   "metadata": {},
   "source": [
    "#### The differences of training and testing accuracy"
   ]
  },
  {
   "cell_type": "code",
   "execution_count": 52,
   "id": "52b3d488",
   "metadata": {},
   "outputs": [
    {
     "data": {
      "text/plain": [
       "0.06355126405141609"
      ]
     },
     "execution_count": 52,
     "metadata": {},
     "output_type": "execute_result"
    }
   ],
   "source": [
    "# normal\n",
    "0.8446671438797423-0.7811158798283262"
   ]
  },
  {
   "cell_type": "code",
   "execution_count": 53,
   "id": "01219a54",
   "metadata": {},
   "outputs": [
    {
     "data": {
      "text/plain": [
       "0.10506112116399025"
      ]
     },
     "execution_count": 53,
     "metadata": {},
     "output_type": "execute_result"
    }
   ],
   "source": [
    "# lemma\n",
    "0.8754473872584109- 0.7703862660944206"
   ]
  },
  {
   "cell_type": "code",
   "execution_count": 54,
   "id": "4c9c3868",
   "metadata": {},
   "outputs": [
    {
     "data": {
      "text/plain": [
       "0.09718710541595876"
      ]
     },
     "execution_count": 54,
     "metadata": {},
     "output_type": "execute_result"
    }
   ],
   "source": [
    "# stem\n",
    "0.8675733715103794 - 0.7703862660944206"
   ]
  },
  {
   "cell_type": "markdown",
   "id": "f51c6b52",
   "metadata": {},
   "source": [
    "#### We dicieded to choose the stem model."
   ]
  },
  {
   "cell_type": "markdown",
   "id": "5c77de6a",
   "metadata": {},
   "source": [
    "# Hyperparameter Tuning"
   ]
  },
  {
   "cell_type": "code",
   "execution_count": 55,
   "id": "6f7e724f",
   "metadata": {
    "scrolled": true
   },
   "outputs": [
    {
     "name": "stdout",
     "output_type": "stream",
     "text": [
      "Fitting 3 folds for each of 80 candidates, totalling 240 fits\n",
      "1962.810260295868\n"
     ]
    }
   ],
   "source": [
    "t0 = time.time()\n",
    "\n",
    "X = df['text']\n",
    "y = df['subreddit']\n",
    "X_train,X_test,y_train,y_test = train_test_split(X,y,\n",
    "                                                 random_state=42,\n",
    "                                                 stratify=y)\n",
    "\n",
    "\n",
    "pipe = Pipeline([('tf',TfidfVectorizer(tokenizer=StemTokenize())),('nb',MultinomialNB())])\n",
    "\n",
    "pipe_param = {\n",
    "    'nb__alpha':[ 0.001, 0.1, 1, 10, 100],\n",
    "    'nb__fit_prior':[True,False],\n",
    "    'tf__stop_words':['english'],\n",
    "    'tf__ngram_range':[(1,2),(2,2)],\n",
    "    'tf__max_df':[1.],\n",
    "    'tf__min_df':[1,2],\n",
    "    'tf__max_features':[1200,1500]}\n",
    "\n",
    "gs_pipe = GridSearchCV(pipe,param_grid=pipe_param,cv=3,verbose=1)\n",
    "gs_pipe.fit(X_train,y_train)\n",
    "\n",
    "\n",
    "pred = gs_pipe.predict(X_test)\n",
    "\n",
    "print(time.time()-t0)"
   ]
  },
  {
   "cell_type": "code",
   "execution_count": 56,
   "id": "2127f5fb",
   "metadata": {},
   "outputs": [
    {
     "data": {
      "text/plain": [
       "{'nb__alpha': 1,\n",
       " 'nb__fit_prior': True,\n",
       " 'tf__max_df': 1.0,\n",
       " 'tf__max_features': 1500,\n",
       " 'tf__min_df': 2,\n",
       " 'tf__ngram_range': (1, 2),\n",
       " 'tf__stop_words': 'english'}"
      ]
     },
     "execution_count": 56,
     "metadata": {},
     "output_type": "execute_result"
    }
   ],
   "source": [
    "gs_pipe.best_params_"
   ]
  },
  {
   "cell_type": "code",
   "execution_count": 57,
   "id": "889bf15a",
   "metadata": {
    "scrolled": true
   },
   "outputs": [
    {
     "name": "stdout",
     "output_type": "stream",
     "text": [
      "0.8565573770491803\n"
     ]
    }
   ],
   "source": [
    "print(metrics.recall_score(y_test,pred))"
   ]
  },
  {
   "cell_type": "code",
   "execution_count": 58,
   "id": "25ee72cc",
   "metadata": {
    "scrolled": true
   },
   "outputs": [
    {
     "name": "stdout",
     "output_type": "stream",
     "text": [
      "Model : GridSearchCV(cv=3,\n",
      "             estimator=Pipeline(steps=[('tf',\n",
      "                                        TfidfVectorizer(tokenizer=<__main__.StemTokenize object at 0x00000191010F5160>)),\n",
      "                                       ('nb', MultinomialNB())]),\n",
      "             param_grid={'nb__alpha': [0.001, 0.1, 1, 10, 100],\n",
      "                         'nb__fit_prior': [True, False], 'tf__max_df': [1.0],\n",
      "                         'tf__max_features': [1200, 1500], 'tf__min_df': [1, 2],\n",
      "                         'tf__ngram_range': [(1, 2), (2, 2)],\n",
      "                         'tf__stop_words': ['english']},\n",
      "             verbose=1)\n",
      "\n",
      "\n",
      "Train Score:0.8260558339298497\n",
      "\n",
      "Test  Score:0.7746781115879828\n",
      "\n",
      "\n",
      "Model classification report: \n",
      "              precision    recall  f1-score   support\n",
      "\n",
      "           0       0.81      0.68      0.74       222\n",
      "           1       0.75      0.86      0.80       244\n",
      "\n",
      "    accuracy                           0.77       466\n",
      "   macro avg       0.78      0.77      0.77       466\n",
      "weighted avg       0.78      0.77      0.77       466\n",
      "\n",
      "\n",
      "\n",
      "------------------------------------------------------------------------\n"
     ]
    },
    {
     "data": {
      "text/plain": [
       "<sklearn.metrics._plot.confusion_matrix.ConfusionMatrixDisplay at 0x1910802a340>"
      ]
     },
     "execution_count": 58,
     "metadata": {},
     "output_type": "execute_result"
    },
    {
     "data": {
      "image/png": "[encoded data removed]",
      "text/plain": [
       "<Figure size 432x288 with 1 Axes>"
      ]
     },
     "metadata": {
      "needs_background": "light"
     },
     "output_type": "display_data"
    }
   ],
   "source": [
    "report(X_train,X_test,y_train,y_test,gs_pipe)\n",
    "plot_confusion_matrix(gs_pipe,X_test,y_test,display_labels=['Venting', 'Depression'],colorbar=False,cmap=plt.cm.Blues)"
   ]
  },
  {
   "cell_type": "code",
   "execution_count": 59,
   "id": "119d561c",
   "metadata": {
    "scrolled": true
   },
   "outputs": [
    {
     "data": {
      "text/plain": [
       "0.05137772234186688"
      ]
     },
     "execution_count": 59,
     "metadata": {},
     "output_type": "execute_result"
    }
   ],
   "source": [
    "# hyperparameter - can reduce the overfitting\n",
    "0.8260558339298497 - 0.7746781115879828"
   ]
  },
  {
   "cell_type": "markdown",
   "id": "c5119e98",
   "metadata": {},
   "source": [
    "# Save model for testing with new data (from depression twitter)"
   ]
  },
  {
   "cell_type": "code",
   "execution_count": 60,
   "id": "68483971",
   "metadata": {},
   "outputs": [],
   "source": [
    "# save the model\n",
    "model = gs_pipe\n",
    "filename = '../model/model.sav'\n",
    "pickle.dump(model, open(filename, 'wb'))"
   ]
  },
  {
   "cell_type": "code",
   "execution_count": null,
   "id": "07459ad7",
   "metadata": {},
   "outputs": [],
   "source": []
  },
  {
   "cell_type": "code",
   "execution_count": null,
   "id": "bada3f44",
   "metadata": {},
   "outputs": [],
   "source": []
  }
 ],
 "metadata": {
  "kernelspec": {
   "display_name": "Python 3 (ipykernel)",
   "language": "python",
   "name": "python3"
  },
  "language_info": {
   "codemirror_mode": {
    "name": "ipython",
    "version": 3
   },
   "file_extension": ".py",
   "mimetype": "text/x-python",
   "name": "python",
   "nbconvert_exporter": "python",
   "pygments_lexer": "ipython3",
   "version": "3.9.12"
  }
 },
 "nbformat": 4,
 "nbformat_minor": 5
}
